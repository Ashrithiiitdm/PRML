{
 "cells": [
  {
   "cell_type": "markdown",
   "id": "7e7df04d-fa8f-47be-98df-0c9f15a6d71d",
   "metadata": {},
   "source": [
    "Question 1\n",
    "    i) Array Creation and Basic Operations \n",
    "    a) Create a 1D array of numbers from 0 to 19 using np.arange(). \n",
    "    b) Reshape this array into a 4x5 2D array.\n",
    "     c) Create a 3x3 array of all zeros, and another 3x3 array of all ones. \n",
    "    d) Generate a 1D array of 10 evenly spaced numbers between 1 and 100 using np.linspace()."
   ]
  },
  {
   "cell_type": "code",
   "execution_count": 1,
   "id": "5d43bfaf-53b7-4a2c-b295-dc7a4b613666",
   "metadata": {},
   "outputs": [
    {
     "name": "stdout",
     "output_type": "stream",
     "text": [
      "[ 0  1  2  3  4  5  6  7  8  9 10 11 12 13 14 15 16 17 18 19]\n"
     ]
    }
   ],
   "source": [
    "import numpy as np\n",
    "# a) Create a 1D array of numbers from 0 to 19 using np.arange(). \n",
    "np_arr = np.arange(0, 20)\n",
    "print(np_arr)"
   ]
  },
  {
   "cell_type": "code",
   "execution_count": 19,
   "id": "8872c95c-706b-4090-94ba-9c9b2ffe14fc",
   "metadata": {},
   "outputs": [
    {
     "name": "stdout",
     "output_type": "stream",
     "text": [
      "[[ 0  1  2  3  4]\n",
      " [ 5  6  7  8  9]\n",
      " [10 11 12 13 14]\n",
      " [15 16 17 18 19]]\n"
     ]
    }
   ],
   "source": [
    "# b) Reshape this array into a 4x5 2D array.\n",
    "new_arr = np_arr.reshape(4, 5)\n",
    "print(new_arr)"
   ]
  },
  {
   "cell_type": "code",
   "execution_count": 35,
   "id": "64d7dad3-3858-479a-8c2c-06f817974330",
   "metadata": {},
   "outputs": [
    {
     "name": "stdout",
     "output_type": "stream",
     "text": [
      "Zeros' array:\n",
      "[[0. 0. 0.]\n",
      " [0. 0. 0.]\n",
      " [0. 0. 0.]]\n",
      "\n",
      "\n",
      "Ones' array:\n",
      "[[1. 1. 1.]\n",
      " [1. 1. 1.]\n",
      " [1. 1. 1.]]\n"
     ]
    }
   ],
   "source": [
    "# c) Create a 3x3 array of all zeros, and another 3x3 array of all ones. \n",
    "zero_arr = np.zeros([3, 3])\n",
    "print(\"Zeros' array:\")\n",
    "print(zero_arr)\n",
    "\n",
    "print(\"\\n\")\n",
    "\n",
    "print(\"Ones' array:\")\n",
    "ones_arr = np.ones([3, 3])\n",
    "print(ones_arr)"
   ]
  },
  {
   "cell_type": "code",
   "execution_count": 45,
   "id": "2b290873-81dd-412b-a8c6-681198e1475f",
   "metadata": {},
   "outputs": [
    {
     "name": "stdout",
     "output_type": "stream",
     "text": [
      "[  1.  12.  23.  34.  45.  56.  67.  78.  89. 100.]\n"
     ]
    }
   ],
   "source": [
    "# d) Generate a 1D array of 10 evenly spaced numbers between 1 and 100 using np.linspace().\n",
    "np_even_arr = np.linspace(1, 100, num = 10)\n",
    "print(np_even_arr)"
   ]
  },
  {
   "cell_type": "markdown",
   "id": "a7957704-f17a-4360-93f4-b4a8bc4f2276",
   "metadata": {},
   "source": [
    "ii) Indexing, Slicing, and Iterating \n",
    "    a) From the 4x5 array created in 1b, extract the following:\n",
    "        The element at position (2,3)\n",
    "        The second row\n",
    "        The last column\n",
    "    b) Reverse the order of elements in the second row. \n",
    "    c) Create a 3x3 array with random integers between 1 and 100, then find all elements greater than 50.\n"
   ]
  },
  {
   "cell_type": "code",
   "execution_count": 54,
   "id": "94bba206-36f7-4b21-baff-03b8ea0388b1",
   "metadata": {},
   "outputs": [
    {
     "name": "stdout",
     "output_type": "stream",
     "text": [
      "Element at position (2, 3) is: 13\n",
      "Elements in the second row are: [5 6 7 8 9]\n",
      "Elements in the last column are: [ 4  9 14 19]\n"
     ]
    }
   ],
   "source": [
    "# a) From the 4x5 array created in 1b, extract the following:\n",
    " #       The element at position (2,3)\n",
    " #       The second row\n",
    "#        The last column \n",
    "\n",
    "#Indexing to get the element\n",
    "element  = new_arr[2][3]\n",
    "print(\"Element at position (2, 3) is:\",element)\n",
    "\n",
    "#Simple indexing to get second row\n",
    "print(\"Elements in the second row are:\", new_arr[1])\n",
    "\n",
    "#Slicing the array to get last column\n",
    "print(\"Elements in the last column are:\", new_arr[:, -1])"
   ]
  },
  {
   "cell_type": "code",
   "execution_count": 58,
   "id": "38cc101b-b377-45d5-a328-dcb8d9ad819f",
   "metadata": {},
   "outputs": [
    {
     "name": "stdout",
     "output_type": "stream",
     "text": [
      "After reversing the second row elements are: [9 8 7 6 5]\n"
     ]
    }
   ],
   "source": [
    "# b) Reverse the order of elements in the second row. \n",
    "#We can use slicing to reverse the elements '-1' indicates that we are coming from backwards at a step of one which gives reverse order\n",
    "new_arr[1] = new_arr[1][:: -1]\n",
    "print(\"After reversing the second row elements are:\", new_arr[1])"
   ]
  },
  {
   "cell_type": "code",
   "execution_count": 79,
   "id": "02e73af2-8633-4aa2-acc6-56bd48fbdbf5",
   "metadata": {},
   "outputs": [
    {
     "name": "stdout",
     "output_type": "stream",
     "text": [
      "Random 3X3 integer array is:\n",
      " [[96 23 50]\n",
      " [ 6 67 70]\n",
      " [24 16 53]]\n",
      "Elements greater than 50 are: [96 67 70 53]\n"
     ]
    }
   ],
   "source": [
    "# c) Create a 3x3 array with random integers between 1 and 100, then find all elements greater than 50.\n",
    "\n",
    "#Creation\n",
    "rand_arr = np.random.randint(1, 101, size = (3, 3))\n",
    "print(\"Random 3X3 integer array is:\\n\",rand_arr)\n",
    "\n",
    "#Finding elements greater than 50\n",
    "\n",
    "elements = rand_arr[rand_arr > 50]\n",
    "print(\"Elements greater than 50 are:\", elements)"
   ]
  },
  {
   "cell_type": "markdown",
   "id": "33b72558-53a6-4db1-a5eb-b1220530c42f",
   "metadata": {},
   "source": [
    "iii) Conditional Statements and Boolean Operations \n",
    "    a) Create a 5x5 array of random integers between 0 and 100. \n",
    "    b) Create a boolean mask for elements between 30 and 70 (inclusive). \n",
    "    c) Use this mask to replace all elements outside this range with the value -1.\n"
   ]
  },
  {
   "cell_type": "code",
   "execution_count": 89,
   "id": "2d5adab6-50bb-41fe-9878-f6dd9e9999a3",
   "metadata": {},
   "outputs": [
    {
     "name": "stdout",
     "output_type": "stream",
     "text": [
      "The 5X5 array is:\n",
      " [[ 26  36   7  56  77]\n",
      " [ 22  41  12  68 100]\n",
      " [ 16  90  52  42   2]\n",
      " [ 51  79  32  44  65]\n",
      " [ 26  70  63  44  52]]\n",
      "The required mask is:\n",
      " [[False  True False  True False]\n",
      " [False  True False  True False]\n",
      " [False False  True  True False]\n",
      " [ True False  True  True  True]\n",
      " [False  True  True  True  True]]\n",
      "After replacing with -1, the array is:\n",
      " [[-1 36 -1 56 -1]\n",
      " [-1 41 -1 68 -1]\n",
      " [-1 -1 52 42 -1]\n",
      " [51 -1 32 44 65]\n",
      " [-1 70 63 44 52]]\n"
     ]
    }
   ],
   "source": [
    "# a) Create a 5x5 array of random integers between 0 and 100. \n",
    "arr3 = np.random.randint(0, 101, size = (5, 5))\n",
    "print(\"The 5X5 array is:\\n\",arr3)\n",
    "\n",
    "# b) Create a boolean mask for elements between 30 and 70 (inclusive).\n",
    "\n",
    "mask = (arr3 >= 30) & (arr3 <= 70)\n",
    "print(\"The required mask is:\\n\",mask)\n",
    "\n",
    "# c) Use this mask to replace all elements outside this range with the value -1.\n",
    "#'~' means negating. elements with 'False' value in mask array will be replaced with '-1'\n",
    "arr3[~ mask] = -1\n",
    "\n",
    "print(\"After replacing with -1, the array is:\\n\", arr3)"
   ]
  },
  {
   "cell_type": "markdown",
   "id": "96fe1a57-f8f2-4da5-b54e-97da2b5bc6a0",
   "metadata": {},
   "source": [
    "iv) Basic Mathematical Operations \n",
    "    a) Create two 3x3 arrays with random integers between 1 and 10. \n",
    "    b) Perform element-wise addition, subtraction, multiplication, and division on these arrays. \n",
    "    c) Calculate the dot product of these two arrays.\n"
   ]
  },
  {
   "cell_type": "code",
   "execution_count": 91,
   "id": "9b62fa86-f2b7-4ffb-b6e3-fcc38a92d6a2",
   "metadata": {},
   "outputs": [
    {
     "name": "stdout",
     "output_type": "stream",
     "text": [
      "First array:\n",
      " [[ 5 10  6]\n",
      " [ 7  6 10]\n",
      " [ 8  2  7]]\n",
      "Second array:\n",
      " [[4 2 8]\n",
      " [9 5 5]\n",
      " [5 5 2]]\n",
      "Addition:\n",
      " [[ 9 12 14]\n",
      " [16 11 15]\n",
      " [13  7  9]]\n",
      "Subtraction:\n",
      " [[ 1  8 -2]\n",
      " [-2  1  5]\n",
      " [ 3 -3  5]]\n",
      "Multiplication:\n",
      " [[20 20 48]\n",
      " [63 30 50]\n",
      " [40 10 14]]\n",
      "Division:\n",
      " [[1.25       5.         0.75      ]\n",
      " [0.77777778 1.2        2.        ]\n",
      " [1.6        0.4        3.5       ]]\n"
     ]
    }
   ],
   "source": [
    "# a) Create two 3x3 arrays with random integers between 1 and 10.\n",
    "arr4a = np.random.randint(1, 11, size = (3, 3))\n",
    "print(\"First array:\\n\", arr4a)\n",
    "\n",
    "arr4b = np.random.randint(1, 11, size = (3, 3))\n",
    "print(\"Second array:\\n\", arr4b)\n",
    "\n",
    "# b) Perform element-wise addition, subtraction, multiplication, and division on these arrays.\n",
    "\n",
    "#Addition\n",
    "add_arr = np.add(arr4a, arr4b)\n",
    "print(\"Addition:\\n\",add_arr)\n",
    "\n",
    "#Subtraction\n",
    "sub_arr = np.subtract(arr4a, arr4b)\n",
    "print(\"Subtraction:\\n\",sub_arr)\n",
    "\n",
    "#Multiplication\n",
    "mul_arr = np.multiply(arr4a, arr4b)\n",
    "print(\"Multiplication:\\n\",mul_arr)\n",
    "\n",
    "#Division\n",
    "div_arr = np.divide(arr4a, arr4b)\n",
    "print(\"Division:\\n\",div_arr)"
   ]
  },
  {
   "cell_type": "code",
   "execution_count": 93,
   "id": "1152e9d4-04dd-40ef-a3c2-9dd02f984c47",
   "metadata": {},
   "outputs": [
    {
     "name": "stdout",
     "output_type": "stream",
     "text": [
      "Dot product:\n",
      " [[140  90 102]\n",
      " [132  94 106]\n",
      " [ 85  61  88]]\n"
     ]
    }
   ],
   "source": [
    "# c) Calculate the dot product of these two arrays.\n",
    "dot_arr = np.dot(arr4a, arr4b)\n",
    "print(\"Dot product:\\n\",dot_arr)"
   ]
  },
  {
   "cell_type": "markdown",
   "id": "29188575-a979-47d8-b3d6-4d03de32d503",
   "metadata": {},
   "source": [
    "v) Universal Functions \n",
    "    a) Using the array from task 3a, calculate:\n",
    "        The mean of the entire array\n",
    "        The standard deviation of each row\n",
    "        The variance of each column\n",
    "        The median of the entire array\n",
    "        The minimum and maximum values of each row\n"
   ]
  },
  {
   "cell_type": "code",
   "execution_count": 97,
   "id": "abd09896-e739-4870-b039-7bfa38bd4900",
   "metadata": {},
   "outputs": [
    {
     "name": "stdout",
     "output_type": "stream",
     "text": [
      "Mean of the array: 28.2\n",
      "Row wise standard-deviation: [23.87802337 28.49842101 23.72677812 22.3194982  24.95275536]\n",
      "Column-wise variance: [432.64 734.8  698.8   98.56 866.56]\n",
      "Median of the entire array: 36.0\n",
      "Maximum values of each row: [56 68 52 65 70]\n",
      "Minimum values of each row: [-1 -1 -1 42 -1]\n"
     ]
    }
   ],
   "source": [
    "# The mean of the entire array\n",
    "\n",
    "#Array from task 3a is arr3\n",
    "mean_arr3 =  np.mean(arr3)\n",
    "print(\"Mean of the array:\", mean_arr3)\n",
    "\n",
    "#Standard deviation of each row\n",
    "sd_row = np.std(arr3, axis = 1)\n",
    "print(\"Row wise standard-deviation:\",sd_row)\n",
    "\n",
    "#Variance of each column\n",
    "var_col = np.var(arr3, axis = 0)\n",
    "print(\"Column-wise variance:\", var_col)\n",
    "\n",
    "#Median of the entire array\n",
    "med_arr = np.median(arr3)\n",
    "print(\"Median of the entire array:\", med_arr)\n",
    "\n",
    "#Minimum and maximum values of each row\n",
    "max_arr = np.max(arr3, axis = 1)\n",
    "print(\"Maximum values of each row:\", max_arr)\n",
    "\n",
    "min_arr = np.min(arr3, axis = 0)\n",
    "print(\"Minimum values of each row:\", min_arr)"
   ]
  },
  {
   "cell_type": "markdown",
   "id": "262f1b68-d369-4cdf-8edb-3c0f2713db90",
   "metadata": {},
   "source": [
    "vi) Shape Manipulation \n",
    "a) Create a 1D array of 24 random integers between 0 and 100.\n",
    "b) Reshape this array into a 4x6 2D array. \n",
    "c) Flatten this 2D array back to 1D. \n",
    "d) Transpose the 2D array. \n",
    "e) Stack two 3x3 arrays vertically, then stack the result with another 3x3 array horizontally.\n"
   ]
  },
  {
   "cell_type": "code",
   "execution_count": 143,
   "id": "6f81ac5d-af02-4f07-ad7b-8990c219728e",
   "metadata": {},
   "outputs": [
    {
     "name": "stdout",
     "output_type": "stream",
     "text": [
      "Array is: [ 54  96  20  45  99  29  27  38  55  68  56  52  79  65  50  31  21  84\n",
      "  29 100  82  16  32  55]\n",
      "After reshaping:\n",
      " [[ 54  96  20  45  99  29]\n",
      " [ 27  38  55  68  56  52]\n",
      " [ 79  65  50  31  21  84]\n",
      " [ 29 100  82  16  32  55]]\n",
      "After flattening: [ 54  96  20  45  99  29  27  38  55  68  56  52  79  65  50  31  21  84\n",
      "  29 100  82  16  32  55]\n",
      "Transposed array:\n",
      " [[ 54  27  79  29]\n",
      " [ 96  38  65 100]\n",
      " [ 20  55  50  82]\n",
      " [ 45  68  31  16]\n",
      " [ 99  56  21  32]\n",
      " [ 29  52  84  55]]\n",
      "First array:\n",
      " [[0 0 3]\n",
      " [2 2 1]\n",
      " [4 0 5]]\n",
      "Second array:\n",
      " [[8 0 8]\n",
      " [9 0 3]\n",
      " [0 4 8]]\n",
      "Vertical stack:\n",
      " [[0 0 3]\n",
      " [2 2 1]\n",
      " [4 0 5]\n",
      " [8 0 8]\n",
      " [9 0 3]\n",
      " [0 4 8]]\n",
      "Third array:\n",
      " [[0 1 5]\n",
      " [2 1 8]\n",
      " [8 6 1]]\n",
      "Horizontal stacked array:\n",
      " [[ 0.  0.  3.  0.  1.  5.]\n",
      " [ 2.  2.  1.  2.  1.  8.]\n",
      " [ 4.  0.  5.  8.  6.  1.]\n",
      " [ 8.  0.  8. nan nan nan]\n",
      " [ 9.  0.  3. nan nan nan]\n",
      " [ 0.  4.  8. nan nan nan]]\n"
     ]
    }
   ],
   "source": [
    "# a) Create a 1D array of 24 random integers between 0 and 100.\n",
    "arr6 = np.random.randint(0, 101, size = 24)\n",
    "print(\"Array is:\", arr6)\n",
    "\n",
    "# b) Reshape this array into a 4x6 2D array. \n",
    "reshape_arr6 = arr6.reshape(4, 6)\n",
    "print(\"After reshaping:\\n\", reshape_arr6)\n",
    "\n",
    "# c) Flatten this 2D array back to 1D. \n",
    "flatten_arr6 = reshape_arr6.flatten()\n",
    "print(\"After flattening:\", flatten_arr6)\n",
    "\n",
    "# d) Transpose the 2D array. \n",
    "arr_transpose = reshape_arr6.T\n",
    "print(\"Transposed array:\\n\", arr_transpose)\n",
    "\n",
    "# e) Stack two 3x3 arrays vertically, then stack the result with another 3x3 array horizontally.\n",
    "arr6a = np.random.randint(0, 10, size = (3, 3))\n",
    "print(\"First array:\\n\", arr6a)\n",
    "\n",
    "arr6b = np.random.randint(0, 10, size = (3, 3))\n",
    "print(\"Second array:\\n\", arr6b)\n",
    "\n",
    "#Vertical stack\n",
    "vertical_arr = np.vstack((arr6a, arr6b))\n",
    "print(\"Vertical stack:\\n\", vertical_arr)\n",
    "\n",
    "#Horizontal stacking the result with another array\n",
    "arr6c = np.random.randint(0, 10, size = (3, 3))\n",
    "print(\"Third array:\\n\", arr6c)\n",
    "\n",
    "#Horizontal stack\n",
    "\n",
    "# As the shapes are different I am replacing the top three rows with NaN values \n",
    "nan_arr = np.full((6, 3), np.nan)\n",
    "nan_arr[:3] = arr6c\n",
    "hor_arr = np.hstack((vertical_arr, nan_arr))\n",
    "print(\"Horizontal stacked array:\\n\", hor_arr)"
   ]
  },
  {
   "cell_type": "markdown",
   "id": "5dbc452b-a697-43d4-81bb-62fd9fee5af5",
   "metadata": {},
   "source": [
    "vii) Copy Methods \n",
    "a) Create a 3x3 array of random integers. \n",
    "b) Create three copies of this array using direct assignment, view(), and copy(). \n",
    "c) Modify an element in each copy and explain the differences in how the original array is affected.\n"
   ]
  },
  {
   "cell_type": "code",
   "execution_count": 163,
   "id": "681e41ac-8afb-4a11-941a-010c5902ae4f",
   "metadata": {},
   "outputs": [
    {
     "name": "stdout",
     "output_type": "stream",
     "text": [
      "3X3 array is:\n",
      " [[ 1  4  1]\n",
      " [ 1  4  7]\n",
      " [ 6 10  7]]\n",
      "Direct assignment:\n",
      " [[ 1  4  1]\n",
      " [ 1  4  7]\n",
      " [ 6 10  7]]\n",
      "View copy:\n",
      " [[ 1  4  1]\n",
      " [ 1  4  7]\n",
      " [ 6 10  7]]\n",
      "Copy():\n",
      " [[ 1  4  1]\n",
      " [ 1  4  7]\n",
      " [ 6 10  7]]\n",
      "Original array:\n",
      " [[ 1  4 15]\n",
      " [ 1  4  7]\n",
      " [ 6 10  7]]\n",
      "Modifying an element in view:\n",
      "\n",
      "Shallow copy:\n",
      " [[ 1  4 15]\n",
      " [ 1  4  7]\n",
      " [ 6 10  7]]\n",
      "Original array:\n",
      " [[ 1  4 15]\n",
      " [ 1  4  7]\n",
      " [ 6 10  7]]\n",
      "Shallow copy after reshape:\n",
      " [ 1  4 15  1  4  7  6 10  7]\n",
      "Original array:\n",
      " [[ 1  4 15]\n",
      " [ 1  4  7]\n",
      " [ 6 10  7]]\n",
      "Copy() array after change:\n",
      " [[  1   4   1]\n",
      " [  1   4 100]\n",
      " [  6  10   7]]\n",
      "Original array:\n",
      " [[ 1  4 15]\n",
      " [ 1  4  7]\n",
      " [ 6 10  7]]\n"
     ]
    }
   ],
   "source": [
    "import copy\n",
    "\n",
    "# a) Create a 3x3 array of random integers. \n",
    "arr7 = np.random.randint(1, 11, size = (3, 3))\n",
    "print(\"3X3 array is:\\n\", arr7)\n",
    "\n",
    "# b) Create three copies of this array using direct assignment, view(), and copy(). \n",
    "\n",
    "#Direct assignment\n",
    "direct_arr7 = arr7\n",
    "print(\"Direct assignment:\\n\", direct_arr7)\n",
    "\n",
    "#View()\n",
    " \n",
    "view_arr7 = arr7.view()\n",
    "print(\"View copy:\\n\", view_arr7)\n",
    "\n",
    "#Copy() \n",
    "\n",
    "deep_arr7 = arr7.copy()\n",
    "print(\"Copy():\\n\", deep_arr7)\n",
    "\n",
    "# c) Modify an element in each copy and explain the differences in how the original array is affected.\n",
    "\n",
    "#Direct assignment: Any changes in either gets reflected in the other i.e a new reference to the same data or array.\n",
    "direct_arr7[0][2] = 15\n",
    "print(\"Original array:\\n\", arr7)\n",
    "# We can say that even though element in direct_arr7 is changed, the change is also observed in the original array\n",
    "\n",
    "#view() : Even in case of view a new reference of the same data is created and changes in data are reflected but the change in shapes are not reflected.\n",
    "print(\"Modifying an element in view:\\n\")\n",
    "print(\"Shallow copy:\\n\", view_arr7)\n",
    "print(\"Original array:\\n\", arr7)\n",
    "\n",
    "#Changing shape of view array\n",
    "view_arr7 = view_arr7.flatten()\n",
    "print(\"Shallow copy after reshape:\\n\", view_arr7)\n",
    "print(\"Original array:\\n\", arr7)\n",
    "\n",
    "#Copy(): Unlike the above two copy methods this copy() method creates an entire new copy in memory of the original array. Changes are not reflected here.\n",
    "deep_arr7[1][2] = 100\n",
    "print(\"Copy() array after change:\\n\", deep_arr7)\n",
    "print(\"Original array:\\n\", arr7)"
   ]
  },
  {
   "cell_type": "markdown",
   "id": "1db2a55d-1108-4f39-b819-c0cbf94b9f4d",
   "metadata": {},
   "source": [
    "viii) Handling NULL Values\n",
    "a) Create a 4x4 array of random floats between 0 and 1. \n",
    "b) Replace some values with NaN (Not a Number). \n",
    "c) Use np.isnan() to create a boolean mask identifying the NaN values. \n",
    "d) Calculate the mean of the array, ignoring the NaN values.\n"
   ]
  },
  {
   "cell_type": "code",
   "execution_count": 177,
   "id": "492a8c22-5068-4b89-b1e8-e0d4e298ded5",
   "metadata": {},
   "outputs": [
    {
     "name": "stdout",
     "output_type": "stream",
     "text": [
      "Random float array 4X4:\n",
      " [[0.015883   0.02166944 0.02800058 0.40935273]\n",
      " [0.81419139 0.91748868 0.31308608 0.3344811 ]\n",
      " [0.05910795 0.39546495 0.34098225 0.93253149]\n",
      " [0.10816867 0.73229817 0.35969856 0.68535211]]\n",
      "After replacing:\n",
      " [[0.015883   0.02166944 0.02800058 0.40935273]\n",
      " [       nan        nan 0.31308608 0.3344811 ]\n",
      " [0.05910795 0.39546495 0.34098225        nan]\n",
      " [0.10816867        nan 0.35969856        nan]]\n",
      "The mask array is:\n",
      " [[False False False False]\n",
      " [ True  True False False]\n",
      " [False False False  True]\n",
      " [False  True False  True]]\n",
      "Mean ignoring the NaN values is: 0.21689957429110204\n"
     ]
    }
   ],
   "source": [
    "# a) Create a 4x4 array of random floats between 0 and 1. \n",
    "\n",
    "arr8 = np.random.random((4, 4))\n",
    "print(\"Random float array 4X4:\\n\", arr8)\n",
    "\n",
    "# b) Replace some values with NaN (Not a Number). \n",
    "arr8[arr8 > 0.6] = np.nan\n",
    "print(\"After replacing:\\n\", arr8)\n",
    "\n",
    "# c) Use np.isnan() to create a boolean mask identifying the NaN values. \n",
    "mask = np.isnan(arr8)\n",
    "print(\"The mask array is:\\n\", mask)\n",
    "\n",
    "# d) Calculate the mean of the array, ignoring the NaN values.\n",
    "filter_arr = arr8[~ mask]\n",
    "print(\"Mean ignoring the NaN values is:\", np.mean(filter_arr))"
   ]
  },
  {
   "cell_type": "markdown",
   "id": "fe613271-518a-45de-8c92-664032e67c6c",
   "metadata": {},
   "source": [
    "ix) Advanced Challenge\n",
    "a) Create a 10x10 array of random integers between 1 and 100. \n",
    "b) Find the indices of the 5 largest values in the entire array.\n",
    "c) Calculate the running average along each row (hint: look into np.cumsum()).\n",
    "d) Normalize each column of the array so that it sums to 1."
   ]
  },
  {
   "cell_type": "code",
   "execution_count": 185,
   "id": "3cfe3b2e-a009-4b28-934b-9183a9204ebd",
   "metadata": {},
   "outputs": [
    {
     "name": "stdout",
     "output_type": "stream",
     "text": [
      "10X10 array:\n",
      " [[ 11  26  68  55  72  18  35  21   4  84]\n",
      " [ 34   2  15  87  20  89  90  53  43  82]\n",
      " [ 94  98  61  36  18  21  89  30  66  56]\n",
      " [ 93  20  92  67  27  99   8  19  68  31]\n",
      " [ 49  34  85  26  78  51  82  97   9  51]\n",
      " [ 18  64  70  82  85  85  41  38  42  16]\n",
      " [ 61  64  50  23  37  10  12  78   8  38]\n",
      " [ 10  82  21  94  93   7  50  60  98  67]\n",
      " [ 49  98  53 100  31  74  60  60  81 100]\n",
      " [ 49  71  17   4  10  60  52  31  27  72]]\n",
      "Indices of the 5 largest values in the entire array: [83, 89, 35, 21, 78]\n",
      "Running average:\n",
      " [[11.         18.5        35.         40.         46.4        41.66666667\n",
      "  40.71428571 38.25       34.44444444 39.4       ]\n",
      " [34.         18.         17.         34.5        31.6        41.16666667\n",
      "  48.14285714 48.75       48.11111111 51.5       ]\n",
      " [94.         96.         84.33333333 72.25       61.4        54.66666667\n",
      "  59.57142857 55.875      57.         56.9       ]\n",
      " [93.         56.5        68.33333333 68.         59.8        66.33333333\n",
      "  58.         53.125      54.77777778 52.4       ]\n",
      " [49.         41.5        56.         48.5        54.4        53.83333333\n",
      "  57.85714286 62.75       56.77777778 56.2       ]\n",
      " [18.         41.         50.66666667 58.5        63.8        67.33333333\n",
      "  63.57142857 60.375      58.33333333 54.1       ]\n",
      " [61.         62.5        58.33333333 49.5        47.         40.83333333\n",
      "  36.71428571 41.875      38.11111111 38.1       ]\n",
      " [10.         46.         37.66666667 51.75       60.         51.16666667\n",
      "  51.         52.125      57.22222222 58.2       ]\n",
      " [49.         73.5        66.66666667 75.         66.2        67.5\n",
      "  66.42857143 65.625      67.33333333 70.6       ]\n",
      " [49.         60.         45.66666667 35.25       30.2        35.16666667\n",
      "  37.57142857 36.75       35.66666667 39.3       ]]\n",
      "Normalized array is:\n",
      " [[0.02350427 0.04651163 0.12781955 0.09581882 0.15286624 0.03501946\n",
      "  0.06743738 0.04312115 0.00896861 0.14070352]\n",
      " [0.07264957 0.00357782 0.02819549 0.15156794 0.04246285 0.17315175\n",
      "  0.1734104  0.10882957 0.09641256 0.13735343]\n",
      " [0.2008547  0.17531306 0.11466165 0.06271777 0.03821656 0.04085603\n",
      "  0.17148362 0.06160164 0.14798206 0.09380235]\n",
      " [0.19871795 0.03577818 0.17293233 0.11672474 0.05732484 0.192607\n",
      "  0.01541426 0.03901437 0.15246637 0.0519263 ]\n",
      " [0.10470085 0.0608229  0.15977444 0.04529617 0.1656051  0.09922179\n",
      "  0.15799615 0.19917864 0.02017937 0.08542714]\n",
      " [0.03846154 0.11449016 0.13157895 0.14285714 0.18046709 0.16536965\n",
      "  0.07899807 0.07802875 0.0941704  0.02680067]\n",
      " [0.13034188 0.11449016 0.09398496 0.04006969 0.07855626 0.01945525\n",
      "  0.02312139 0.16016427 0.01793722 0.06365159]\n",
      " [0.02136752 0.14669052 0.03947368 0.16376307 0.19745223 0.01361868\n",
      "  0.09633911 0.12320329 0.21973094 0.11222781]\n",
      " [0.10470085 0.17531306 0.09962406 0.17421603 0.06581741 0.14396887\n",
      "  0.11560694 0.12320329 0.18161435 0.16750419]\n",
      " [0.10470085 0.12701252 0.03195489 0.00696864 0.02123142 0.11673152\n",
      "  0.10019268 0.06365503 0.06053812 0.12060302]]\n"
     ]
    }
   ],
   "source": [
    "# a) Create a 10x10 array of random integers between 1 and 100. \n",
    "arr9 = np.random.randint(1, 101, size = (10, 10))\n",
    "print(\"10X10 array:\\n\", arr9)\n",
    "\n",
    "# b) Find the indices of the 5 largest values in the entire array.\n",
    "\n",
    "# Flatten the array first\n",
    "flat_arr9 = arr9.flatten()\n",
    "#List to store indices\n",
    "idx = []\n",
    "\n",
    "for i in range(0, 5):\n",
    "    max_idx = np.argmax(flat_arr9)\n",
    "    idx.append(max_idx)\n",
    "    flat_arr9[max_idx] = -1\n",
    "\n",
    "print(\"Indices of the 5 largest values in the entire array:\", idx)\n",
    "\n",
    "# c) Calculate the running average along each row (hint: look into np.cumsum()).\n",
    "run_avg = np.cumsum(arr9, axis = 1) / np.arange(1, arr9.shape[1] + 1)\n",
    "print(\"Running average:\\n\", run_avg)\n",
    "\n",
    "# d) Normalize each column of the array so that it sums to 1.\n",
    "\n",
    "#Find sum of each columns\n",
    "col_sum = arr9.sum(axis = 0)\n",
    "\n",
    "#Divide the original array with the columns sums to normalize\n",
    "nor_arr9 = arr9 / col_sum\n",
    "print(\"Normalized array is:\\n\", nor_arr9)"
   ]
  },
  {
   "cell_type": "code",
   "execution_count": null,
   "id": "cc02c94c-0615-48ee-9eb4-f0f8fb63db28",
   "metadata": {},
   "outputs": [],
   "source": []
  }
 ],
 "metadata": {
  "kernelspec": {
   "display_name": "Python 3 (ipykernel)",
   "language": "python",
   "name": "python3"
  },
  "language_info": {
   "codemirror_mode": {
    "name": "ipython",
    "version": 3
   },
   "file_extension": ".py",
   "mimetype": "text/x-python",
   "name": "python",
   "nbconvert_exporter": "python",
   "pygments_lexer": "ipython3",
   "version": "3.12.4"
  }
 },
 "nbformat": 4,
 "nbformat_minor": 5
}
