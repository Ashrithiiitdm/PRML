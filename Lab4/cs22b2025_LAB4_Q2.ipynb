{
 "cells": [
  {
   "cell_type": "markdown",
   "metadata": {},
   "source": [
    "1. You are conducting a study to explore the relationships between various factors and their potential correlation with the test scores of a group of individuals. You have gathered data from a group of individuals, and the table below represents the hours spent on different activities, along with their corresponding test scores. Your task is to analyze the data and determine the type of correlation, if any, between each variable and the test scores, without using built-in functions for calculating correlation.\n"
   ]
  },
  {
   "cell_type": "code",
   "execution_count": 2,
   "metadata": {},
   "outputs": [],
   "source": [
    "import numpy as np\n",
    "import pandas as pd\n",
    "import math"
   ]
  },
  {
   "cell_type": "code",
   "execution_count": 3,
   "metadata": {},
   "outputs": [],
   "source": [
    "#Function for calculating the correlation coeffeicient between each pair of attributes in the dataset.\n",
    "#It takes two features and computes the correlation.\n",
    "\n",
    "def corre_coeff(x, y):\n",
    "\n",
    "    n = len(x)\n",
    "\n",
    "    # Calculate sums\n",
    "    sum_x = sum(x)\n",
    "    sum_y = sum(y)\n",
    "    sum_x2, sum_y2 = 0, 0\n",
    "    sum_xy = 0\n",
    "\n",
    "    for xi in x:\n",
    "        sum_x2 += xi**2\n",
    "    \n",
    "    for yi in y:\n",
    "        sum_y2 += yi**2\n",
    "    \n",
    "    \n",
    "    for xi, yi in zip(x, y):\n",
    "        sum_xy += xi *yi\n",
    "\n",
    "    numerator = n * sum_xy - sum_x * sum_y\n",
    "    denominator = ((n * sum_x2 - sum_x ** 2) * (n * sum_y2 - sum_y ** 2)) ** 0.5\n",
    "\n",
    "    correlation_coefficient = numerator / denominator\n",
    "\n",
    "    return correlation_coefficient\n",
    "\n",
    "\n",
    "def make_matrix(df):\n",
    "    \n",
    "    #features and length of them\n",
    "    features = df.columns\n",
    "    n = len(features)\n",
    "\n",
    "    #Init a zero based matrix\n",
    "    corr_matrix = [[0] * n for _ in range(n)] \n",
    "\n",
    "    for i in range(n):\n",
    "        for j in range(n):\n",
    "            if i <= j:\n",
    "                corr = corre_coeff(df[features[i]], df[features[j]])\n",
    "                corr_matrix[i][j] = corr\n",
    "                corr_matrix[j][i] = corr\n",
    "\n",
    "    return corr_matrix\n"
   ]
  },
  {
   "cell_type": "code",
   "execution_count": 4,
   "metadata": {},
   "outputs": [],
   "source": [
    "#Store the initial data in a dictionary.\n",
    "d = {'Hours studied':[2, 3, 4, 5, 6, 7], 'Hours Watching T.V': [4, 3, 2, 1, 0, 0], 'Outdoor Activity Time':[2, 4, 6, 8, 10, 12],'Hours Listening to Music':[2,3,4,1,5,0], 'Water Consumed':[5,6,5,6,4,5], 'Test Score':[65,70,75,80,85,90]}\n",
    "df = pd.DataFrame(d)\n",
    "df\n",
    "n = 6"
   ]
  },
  {
   "cell_type": "code",
   "execution_count": 5,
   "metadata": {},
   "outputs": [
    {
     "name": "stdout",
     "output_type": "stream",
     "text": [
      "The Correlation matrix for the above data is:\n",
      " [[ 1.         -0.98198051  1.         -0.2        -0.3550358   1.        ]\n",
      " [-0.98198051  1.         -0.98198051  0.06546537  0.3796283  -0.98198051]\n",
      " [ 1.         -0.98198051  1.         -0.2        -0.3550358   1.        ]\n",
      " [-0.2         0.06546537 -0.2         1.         -0.49705012 -0.2       ]\n",
      " [-0.3550358   0.3796283  -0.3550358  -0.49705012  1.         -0.3550358 ]\n",
      " [ 1.         -0.98198051  1.         -0.2        -0.3550358   1.        ]]\n"
     ]
    }
   ],
   "source": [
    "#Correlation matrix for the above dataset\n",
    "corr_matrix = make_matrix(df)\n",
    "print(\"The Correlation matrix for the above data is:\\n\", np.array(corr_matrix))"
   ]
  },
  {
   "cell_type": "markdown",
   "metadata": {},
   "source": [
    "Based on the provided data, calculate and interpret the correlation coefficient for each variable in relation to the test scores. Identify the variables that show a positive correlation, a negative correlation, and no significant correlation with the test scores.\n"
   ]
  },
  {
   "cell_type": "code",
   "execution_count": 9,
   "metadata": {},
   "outputs": [
    {
     "data": {
      "text/html": [
       "<div>\n",
       "<style scoped>\n",
       "    .dataframe tbody tr th:only-of-type {\n",
       "        vertical-align: middle;\n",
       "    }\n",
       "\n",
       "    .dataframe tbody tr th {\n",
       "        vertical-align: top;\n",
       "    }\n",
       "\n",
       "    .dataframe thead th {\n",
       "        text-align: right;\n",
       "    }\n",
       "</style>\n",
       "<table border=\"1\" class=\"dataframe\">\n",
       "  <thead>\n",
       "    <tr style=\"text-align: right;\">\n",
       "      <th></th>\n",
       "      <th>Hours studied</th>\n",
       "      <th>Hours Watching T.V</th>\n",
       "      <th>Outdoor Activity Time</th>\n",
       "      <th>Hours Listening to Music</th>\n",
       "      <th>Water Consumed</th>\n",
       "      <th>Test Score</th>\n",
       "    </tr>\n",
       "  </thead>\n",
       "  <tbody>\n",
       "    <tr>\n",
       "      <th>Hours studied</th>\n",
       "      <td>1.000000</td>\n",
       "      <td>-0.981981</td>\n",
       "      <td>1.000000</td>\n",
       "      <td>-0.200000</td>\n",
       "      <td>-0.355036</td>\n",
       "      <td>1.000000</td>\n",
       "    </tr>\n",
       "    <tr>\n",
       "      <th>Hours Watching T.V</th>\n",
       "      <td>-0.981981</td>\n",
       "      <td>1.000000</td>\n",
       "      <td>-0.981981</td>\n",
       "      <td>0.065465</td>\n",
       "      <td>0.379628</td>\n",
       "      <td>-0.981981</td>\n",
       "    </tr>\n",
       "    <tr>\n",
       "      <th>Outdoor Activity Time</th>\n",
       "      <td>1.000000</td>\n",
       "      <td>-0.981981</td>\n",
       "      <td>1.000000</td>\n",
       "      <td>-0.200000</td>\n",
       "      <td>-0.355036</td>\n",
       "      <td>1.000000</td>\n",
       "    </tr>\n",
       "    <tr>\n",
       "      <th>Hours Listening to Music</th>\n",
       "      <td>-0.200000</td>\n",
       "      <td>0.065465</td>\n",
       "      <td>-0.200000</td>\n",
       "      <td>1.000000</td>\n",
       "      <td>-0.497050</td>\n",
       "      <td>-0.200000</td>\n",
       "    </tr>\n",
       "    <tr>\n",
       "      <th>Water Consumed</th>\n",
       "      <td>-0.355036</td>\n",
       "      <td>0.379628</td>\n",
       "      <td>-0.355036</td>\n",
       "      <td>-0.497050</td>\n",
       "      <td>1.000000</td>\n",
       "      <td>-0.355036</td>\n",
       "    </tr>\n",
       "    <tr>\n",
       "      <th>Test Score</th>\n",
       "      <td>1.000000</td>\n",
       "      <td>-0.981981</td>\n",
       "      <td>1.000000</td>\n",
       "      <td>-0.200000</td>\n",
       "      <td>-0.355036</td>\n",
       "      <td>1.000000</td>\n",
       "    </tr>\n",
       "  </tbody>\n",
       "</table>\n",
       "</div>"
      ],
      "text/plain": [
       "                          Hours studied  Hours Watching T.V  \\\n",
       "Hours studied                  1.000000           -0.981981   \n",
       "Hours Watching T.V            -0.981981            1.000000   \n",
       "Outdoor Activity Time          1.000000           -0.981981   \n",
       "Hours Listening to Music      -0.200000            0.065465   \n",
       "Water Consumed                -0.355036            0.379628   \n",
       "Test Score                     1.000000           -0.981981   \n",
       "\n",
       "                          Outdoor Activity Time  Hours Listening to Music  \\\n",
       "Hours studied                          1.000000                 -0.200000   \n",
       "Hours Watching T.V                    -0.981981                  0.065465   \n",
       "Outdoor Activity Time                  1.000000                 -0.200000   \n",
       "Hours Listening to Music              -0.200000                  1.000000   \n",
       "Water Consumed                        -0.355036                 -0.497050   \n",
       "Test Score                             1.000000                 -0.200000   \n",
       "\n",
       "                          Water Consumed  Test Score  \n",
       "Hours studied                  -0.355036    1.000000  \n",
       "Hours Watching T.V              0.379628   -0.981981  \n",
       "Outdoor Activity Time          -0.355036    1.000000  \n",
       "Hours Listening to Music       -0.497050   -0.200000  \n",
       "Water Consumed                  1.000000   -0.355036  \n",
       "Test Score                     -0.355036    1.000000  "
      ]
     },
     "execution_count": 9,
     "metadata": {},
     "output_type": "execute_result"
    }
   ],
   "source": [
    "\n",
    "corr_df = pd.DataFrame(corr_matrix, columns=df.columns, index=df.columns)\n",
    "corr_df"
   ]
  },
  {
   "cell_type": "code",
   "execution_count": 30,
   "metadata": {},
   "outputs": [
    {
     "name": "stdout",
     "output_type": "stream",
     "text": [
      "Columns with positive correlation with Test Score:\n",
      " Hours studied            1.0\n",
      "Outdoor Activity Time    1.0\n",
      "Test Score               1.0\n",
      "Name: Test Score, dtype: float64\n",
      "Columns with negative correlation with Test Score:\n",
      " Hours Listening to Music   -0.200000\n",
      "Water Consumed             -0.355036\n",
      "Hours Watching T.V         -0.981981\n",
      "Name: Test Score, dtype: float64\n"
     ]
    }
   ],
   "source": [
    "corr_with_test_scores = corr_df['Test Score'].sort_values(ascending=False)\n",
    "\n",
    "# Identify positive correlation\n",
    "positive_corr = corr_with_test_scores[corr_with_test_scores > 0]\n",
    "print(\"Columns with positive correlation with Test Score:\\n\", positive_corr)\n",
    "negative_corr = corr_with_test_scores[corr_with_test_scores < 0]\n",
    "print(\"Columns with negative correlation with Test Score:\\n\", negative_corr)"
   ]
  },
  {
   "cell_type": "markdown",
   "metadata": {},
   "source": [
    "Explain why there might be a positive correlation between the \"Hours Studied\" variable and the test scores. Provide a brief discussion on how this information could be valuable for improving academic performance.\n"
   ]
  },
  {
   "cell_type": "markdown",
   "metadata": {},
   "source": [
    "Explanation: The positive correlation between the \"Hours Studied\" variable and test scores suggests that as students spend more time studying, their test scores tend to improve. This relationship is intuitive: more time spent on studying leads to better understanding of the material, enhanced retention, and improved problem-solving skills.\n",
    "\n",
    "As there is a positive correlation between No of hours of study and test score, we can  help students by encouraging them to increase their no of study hours so that they can score well."
   ]
  },
  {
   "cell_type": "markdown",
   "metadata": {},
   "source": [
    "Calculate and interpret the correlation coefficient between \"Hours Watching TV\" and test scores. Explain the implications of this correlation in terms of academic achievement and time management."
   ]
  },
  {
   "cell_type": "code",
   "execution_count": 31,
   "metadata": {},
   "outputs": [
    {
     "name": "stdout",
     "output_type": "stream",
     "text": [
      "Correlation coefficient between Hours Watching TV and test scores -0.9819805060619657\n"
     ]
    }
   ],
   "source": [
    "print(\"Correlation coefficient between Hours Watching TV and test scores\", corr_df['Test Score'].loc['Hours Watching T.V'])"
   ]
  },
  {
   "cell_type": "markdown",
   "metadata": {},
   "source": [
    "Explanation: Hours Watching T.V has a strong negative correlation, indicating that students who spend more time watching TV tend to have significantly lower test scores  which may have a negative impact on students.\n",
    "So we can guide students to lower the time that they are spending on watching T.V so that they have more time to study and to make sure that they are less distracted."
   ]
  },
  {
   "cell_type": "markdown",
   "metadata": {},
   "source": [
    "Calculate and interpret the correlation coefficient between \"Hours Listening to Music\" and test scores. Discuss the potential impact of this correlation on concentration and study habits."
   ]
  },
  {
   "cell_type": "code",
   "execution_count": 33,
   "metadata": {},
   "outputs": [
    {
     "name": "stdout",
     "output_type": "stream",
     "text": [
      "Correlation coefficient between Hours Listening Music and test scores -0.2\n"
     ]
    }
   ],
   "source": [
    "print(\"Correlation coefficient between Hours Listening Music and test scores\", corr_df['Test Score'].loc['Hours Listening to Music'])"
   ]
  },
  {
   "cell_type": "markdown",
   "metadata": {},
   "source": [
    "Explanation: The correlation between Hours Listening to Music and test scores is very weakly negative which implies that it has very little significance to the test scores of a particular student."
   ]
  },
  {
   "cell_type": "markdown",
   "metadata": {},
   "source": [
    "Calculate and interpret the correlation coefficient between \"Water Consumed\" and test scores. Provide a potential explanation for the observed correlation and its relevance to cognitive function."
   ]
  },
  {
   "cell_type": "code",
   "execution_count": 35,
   "metadata": {},
   "outputs": [
    {
     "name": "stdout",
     "output_type": "stream",
     "text": [
      "Correlation coefficient between Water Consumed and test scores -0.3550358012483632\n"
     ]
    }
   ],
   "source": [
    "print(\"Correlation coefficient between Water Consumed and test scores\", corr_df['Test Score'].loc['Water Consumed'])"
   ]
  },
  {
   "cell_type": "markdown",
   "metadata": {},
   "source": [
    "Explanation: : The coefficient −0.355−0.355 indicates a moderate negative correlation between water consumption and test scores. This suggests that as water consumption increase or decrease.\n",
    "Generally, hydration is crucial for maintaining cognitive function, attention, and memory. However, if the correlation is negative, it could point to an area where further investigation is needed to understand how water consumption interacts with other factors influencing academic performance."
   ]
  },
  {
   "cell_type": "markdown",
   "metadata": {},
   "source": [
    "Calculate and interpret the correlation coefficient between \"Outdoor Activity Time\" and test scores. Discuss how physical activity might influence academic performance."
   ]
  },
  {
   "cell_type": "code",
   "execution_count": 36,
   "metadata": {},
   "outputs": [
    {
     "name": "stdout",
     "output_type": "stream",
     "text": [
      "Correlation coefficient between Outdoor Activity Time and test scores 1.0\n"
     ]
    }
   ],
   "source": [
    "print(\"Correlation coefficient between Outdoor Activity Time and test scores\", corr_df['Test Score'].loc['Outdoor Activity Time'])"
   ]
  },
  {
   "cell_type": "markdown",
   "metadata": {},
   "source": [
    "Explanation: A correlation coefficient of 11 between \"Outdoor Activity Time\" and test scores indicates a perfect positive correlation. This means that as the amount of time spent on outdoor activities increases, test scores increase in a perfectly linear relationship.\n",
    "\n",
    "Regular physical activity can enhance concentration and attention,can lead to better performance in academic tasks.\n",
    "Outdoor activities can boost overall energy levels and reduce fatigue, leading to improved performance in both physical and cognitive tasks."
   ]
  },
  {
   "cell_type": "markdown",
   "metadata": {},
   "source": []
  }
 ],
 "metadata": {
  "kernelspec": {
   "display_name": "base",
   "language": "python",
   "name": "python3"
  },
  "language_info": {
   "codemirror_mode": {
    "name": "ipython",
    "version": 3
   },
   "file_extension": ".py",
   "mimetype": "text/x-python",
   "name": "python",
   "nbconvert_exporter": "python",
   "pygments_lexer": "ipython3",
   "version": "3.12.4"
  }
 },
 "nbformat": 4,
 "nbformat_minor": 2
}
