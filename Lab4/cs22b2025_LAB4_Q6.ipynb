{
 "cells": [
  {
   "cell_type": "markdown",
   "metadata": {},
   "source": [
    "2. Compare two text files doc1.txt and doc2.txt using cosine distance.\n",
    "\n",
    "\n",
    "doc1.txt\n",
    "\n",
    "“ MATLAB is a program for solving engineering and mathematical problems. The basic MATLAB objects are vectors and matrices, so you must be familiar with these before making extensive use of this program.”\n",
    "\n",
    "\n",
    "doc2.txt\n",
    "\n",
    "“MATLAB works with essentially one kind of object, a rectangular numerical matrix. Here is some basic information on using MATLAB matrix commands.”"
   ]
  },
  {
   "cell_type": "code",
   "execution_count": 5,
   "metadata": {},
   "outputs": [],
   "source": [
    "import numpy as np\n",
    "import math\n",
    "from collections import Counter"
   ]
  },
  {
   "cell_type": "code",
   "execution_count": 12,
   "metadata": {},
   "outputs": [],
   "source": [
    "#Preprocessing the text such as removing punctuations, converting into lower case letters and split.\n",
    "def preprocessing_text(text):\n",
    "\n",
    "    words = text.lower().split()\n",
    "    for word in words:\n",
    "        word = word.strip('.,')\n",
    "    \n",
    "    return words\n",
    "\n",
    "#Frequency vector\n",
    "def freq(words, words_all):\n",
    "    #create a frequency vector for each document based on combined vocabulary.\n",
    "    word_count = Counter(words)\n",
    "    word_vec = []\n",
    "\n",
    "    for word in words_all:\n",
    "        word_vec.append(word_count[word])\n",
    "    \n",
    "    return np.array(word_vec)\n",
    "\n",
    "#Cosine distance\n",
    "def cos_distance(text1, text2):\n",
    "\n",
    "    #Preprocess\n",
    "    words1 = preprocessing_text(text1)\n",
    "    words2 = preprocessing_text(text2)\n",
    "\n",
    "    #Create a combined set of unique words from both texts.\n",
    "    words_all = list(set(words1) | set(words2))\n",
    "\n",
    "    #Convert into frequency vector\n",
    "    v1 = freq(words1, words_all)\n",
    "    v2 = freq(words2, words_all)\n",
    "\n",
    "    #Cosine similarity\n",
    "    prod = np.dot(v1, v2)\n",
    "    m1 = np.linalg.norm(v1)\n",
    "    m2 = np.linalg.norm(v2)\n",
    "\n",
    "    if m1 == 0 or m2 == 0:\n",
    "        return 0\n",
    "\n",
    "    #Cosine distance\n",
    "    d = 1 - prod / (m1 * m2)\n",
    "\n",
    "    return d"
   ]
  },
  {
   "cell_type": "code",
   "execution_count": 13,
   "metadata": {},
   "outputs": [
    {
     "name": "stdout",
     "output_type": "stream",
     "text": [
      "The cosine distance between two documents is: 0.6938137821521027\n"
     ]
    }
   ],
   "source": [
    "#Defining the text.\n",
    "text1 = \"\"\"MATLAB is a program for solving engineering and mathematical problems. The basic MATLAB objects are vectors and matrices, so you must be familiar with these before making extensive use of this program.\"\"\"\n",
    "text2 = \"\"\"MATLAB works with essentially one kind of object, a rectangular numerical matrix. Here is some basic information on using MATLAB matrix commands.\"\"\"\n",
    "\n",
    "#Computing the cosine distance.\n",
    "d = cos_distance(text1, text2)\n",
    "\n",
    "print(\"The cosine distance between two documents is:\", d)\n"
   ]
  },
  {
   "cell_type": "code",
   "execution_count": null,
   "metadata": {},
   "outputs": [],
   "source": []
  }
 ],
 "metadata": {
  "kernelspec": {
   "display_name": "base",
   "language": "python",
   "name": "python3"
  },
  "language_info": {
   "codemirror_mode": {
    "name": "ipython",
    "version": 3
   },
   "file_extension": ".py",
   "mimetype": "text/x-python",
   "name": "python",
   "nbconvert_exporter": "python",
   "pygments_lexer": "ipython3",
   "version": "3.12.2"
  }
 },
 "nbformat": 4,
 "nbformat_minor": 2
}
