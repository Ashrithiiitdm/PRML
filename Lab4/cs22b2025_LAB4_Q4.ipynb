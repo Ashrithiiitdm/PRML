{
 "cells": [
  {
   "cell_type": "markdown",
   "metadata": {},
   "source": [
    "NOTE :- Do NOT use the inbuilt function for calculating KL Distance, Bhattacharyya Distance and Cosine Distance directly, you can use functions required to build the distances from scratch like inverse of a matrix, etc. "
   ]
  },
  {
   "cell_type": "markdown",
   "metadata": {},
   "source": [
    "1.Calculate the distance between the two normalized histograms H1 and H2 using each of the following methods:\n",
    "    (a) KL Distance\n",
    "    (b) Bhattacharyya Distance\n",
    "    H1 = [ 0.24, 0.2, 0.16, 0.12, 0.08, 0.04, 0.12, 0.04]\n",
    "    H2 = [ 0.22, 0.23, 0.16, 0.13, 0.11, 0.08, 0.05, 0.02]"
   ]
  },
  {
   "cell_type": "code",
   "execution_count": 1,
   "metadata": {},
   "outputs": [],
   "source": [
    "import numpy as np\n",
    "import math"
   ]
  },
  {
   "cell_type": "code",
   "execution_count": 20,
   "metadata": {},
   "outputs": [],
   "source": [
    "\n",
    "#Defining the histograms\n",
    "h1 = [ 0.24, 0.2, 0.16, 0.12, 0.08, 0.04, 0.12, 0.04]\n",
    "h2 = [ 0.22, 0.23, 0.16, 0.13, 0.11, 0.08, 0.05, 0.02]\n",
    "\n",
    "#a Calculating K.L distance\n",
    "#D(p, q) = Summation(pi log(pi/qi))\n",
    "def kl_distance(h1, h2):\n",
    "    d = 0\n",
    "    for p, q in zip(h1, h2):\n",
    "        d += p * (math.log2(p / q))\n",
    "    \n",
    "    return d\n",
    "\n",
    "\n",
    "\n",
    "#b Calculating bhattacharya distance\n",
    "def bhattacharya_distance(h1, h2):\n",
    "\n",
    "    #Convert into numpy array\n",
    "    h1 = np.array(h1)\n",
    "    h2 = np.array(h2)\n",
    "\n",
    "    # Calculating the Bhattacharyya coefficient\n",
    "    bc = np.sum(np.sqrt(h1 * h2))\n",
    "\n",
    "    # Calculating the Bhattacharyya distance\n",
    "    distance = -1 * np.log(bc)\n",
    "    \n",
    "    return distance"
   ]
  },
  {
   "cell_type": "code",
   "execution_count": 22,
   "metadata": {},
   "outputs": [
    {
     "name": "stdout",
     "output_type": "stream",
     "text": [
      "K.L distance between the histograms is: 0.09075297258487514\n",
      "Bhattacharya's distance between the histograms is: 0.014830056106628986\n"
     ]
    }
   ],
   "source": [
    "h1 = [ 0.24, 0.2, 0.16, 0.12, 0.08, 0.04, 0.12, 0.04]\n",
    "h2 = [ 0.22, 0.23, 0.16, 0.13, 0.11, 0.08, 0.05, 0.02]\n",
    "\n",
    "kl_dist = kl_distance(h1, h2)\n",
    "bhatt_distance = bhattacharya_distance(h1, h2)\n",
    "\n",
    "#Displaying the distances\n",
    "print(\"K.L distance between the histograms is:\", kl_dist)\n",
    "print(\"Bhattacharya's distance between the histograms is:\", bhatt_distance)"
   ]
  }
 ],
 "metadata": {
  "kernelspec": {
   "display_name": "base",
   "language": "python",
   "name": "python3"
  },
  "language_info": {
   "codemirror_mode": {
    "name": "ipython",
    "version": 3
   },
   "file_extension": ".py",
   "mimetype": "text/x-python",
   "name": "python",
   "nbconvert_exporter": "python",
   "pygments_lexer": "ipython3",
   "version": "3.12.2"
  }
 },
 "nbformat": 4,
 "nbformat_minor": 2
}
