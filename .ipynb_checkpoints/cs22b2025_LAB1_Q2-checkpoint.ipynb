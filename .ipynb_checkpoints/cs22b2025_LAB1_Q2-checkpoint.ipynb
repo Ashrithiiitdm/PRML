{
 "cells": [
  {
   "cell_type": "markdown",
   "id": "7a95658c-e19e-42bf-a758-cead10a1d0dd",
   "metadata": {},
   "source": [
    "Write a python program to perform matrix operations on an M x N matrix and solve a system of linear equations. Use inbuilt functions to implement the operations. Get two matrices from the user. The program should support the following Menus,\n",
    "\n",
    "1. Matrix Addition\n",
    "2. Matrix Subtraction\n",
    "3. Scalar Matrix Multiplication\n",
    "4. Elementwise Matrix Multiplication\n",
    "5. Matrix Multiplication\n",
    "6. Matrix Transpose\n",
    "7. Trace of a Matrix\n",
    "8. Solve System of Linear Equations\n",
    "9. Determinant\n",
    "10. Inverse\n",
    "11. Eigen Value and Eigen Vector\n",
    "12. Exit\n"
   ]
  },
  {
   "cell_type": "code",
   "execution_count": 190,
   "id": "7420fdb2-7d36-4058-863d-52cd9c38128f",
   "metadata": {},
   "outputs": [],
   "source": [
    "import numpy as np\n",
    "\n",
    "#1. Matrix Addition\n",
    "def add_matrices(arr1, arr2):\n",
    "    return np.add(arr1, arr2)\n",
    "\n",
    "#2. Matrix Subtraction\n",
    "def sub_matrices(arr1, arr2):\n",
    "    return np.subtract(arr1, arr2)\n",
    "\n",
    "# 3. Scalar Matrix Multiplication\n",
    "def scalar_mul(arr, k):\n",
    "    return arr*k\n",
    "\n",
    "# 4. Elementwise Matrix Multiplication\n",
    "def element_wise_mul(arr1, arr2):\n",
    "    mat1 = np.array(arr1)\n",
    "    mat2 = np.array(arr2)\n",
    "    mul = mat1*mat2\n",
    "\n",
    "    return mul \n",
    "\n",
    "# 5. Matrix Multiplication\n",
    "def matrix_mul(arr1, arr2):\n",
    "    return np.dot(arr1, arr2)\n",
    "\n",
    "# 6. Matrix Transpose\n",
    "def matrix_transpose(arr):\n",
    "    return np.transpose(arr)\n",
    "\n",
    "# 7. Trace of a Matrix\n",
    "def matrix_trace(arr):\n",
    "    return np.trace(arr)\n",
    "\n",
    "# 8. Solve System of Linear Equations\n",
    "def sol_matrix(X, Y):\n",
    "    return np.linalg.solve(X, Y)\n",
    "\n",
    "# 9. Determinant\n",
    "def det_matrix(arr):\n",
    "    return np.linalg.det(arr)\n",
    "\n",
    "# 10. Inverse\n",
    "def inv_matrix(arr):\n",
    "    return np.linalg.inv(arr)\n",
    "\n",
    "#11. Eigen Value and Eigen Vector\n",
    "def eigen_matrix(arr):\n",
    "    return np.linalg.eig(arr)\n",
    "\n",
    "#Taking input\n",
    "def input_arr(r, c):\n",
    "    mat = []\n",
    "    for i in range(r):\n",
    "        row = list(map(float, input().split()))\n",
    "        if len(row) != c:\n",
    "            print(f\"Error: You must enter exactly {c} elements.\")\n",
    "        else:\n",
    "            mat.append(row)\n",
    "            \n",
    "        #mat.append(row)\n",
    "    \n",
    "    return np.mat(mat)\n"
   ]
  },
  {
   "cell_type": "code",
   "execution_count": 206,
   "id": "ad12fa4b-6a0b-425f-bbed-d4a0fc2dbc6d",
   "metadata": {},
   "outputs": [
    {
     "name": "stdout",
     "output_type": "stream",
     "text": [
      "\n",
      "1. Add two matrices\n",
      "\n",
      "2. Subtract two matrices\n",
      "\n",
      "3. Scalar Matrix Multiplication\n",
      "\n",
      "4. Elementwise Matrix Multiplication\n",
      "\n",
      "5. Matrix Multiplication\n",
      "\n",
      "6. Matrix Transpose\n",
      "\n",
      "7. Trace of a Matrix\n",
      "\n",
      "8. Solve System of Linear Equations\n",
      "\n",
      "9. Determinant\n",
      "\n",
      "10. Inverse\n",
      "\n",
      "11. Eigen values and Eigen vectors\n",
      "\n",
      "12. Exit\n"
     ]
    },
    {
     "name": "stdin",
     "output_type": "stream",
     "text": [
      "Enter your choice 1\n",
      "Enter no of rows for first matrix: 3\n",
      "Enter no of rows for second matrix: 3\n",
      "Enter no of columns for first matrix: 3\n",
      "Enter no of columns for second matrix: 3\n"
     ]
    },
    {
     "name": "stdout",
     "output_type": "stream",
     "text": [
      "Enter elements of the first matrix row by row:\n",
      "\n"
     ]
    },
    {
     "name": "stdin",
     "output_type": "stream",
     "text": [
      " 1 2 3\n",
      " 4 5 6\n",
      " 7 8 9\n"
     ]
    },
    {
     "name": "stdout",
     "output_type": "stream",
     "text": [
      "First matrix:\n",
      " [[1. 2. 3.]\n",
      " [4. 5. 6.]\n",
      " [7. 8. 9.]]\n",
      "Enter elements of the second matrix row by row:\n",
      "\n"
     ]
    },
    {
     "name": "stdin",
     "output_type": "stream",
     "text": [
      " 1 2 3\n",
      " 4 5 6\n",
      " 7 8 9\n"
     ]
    },
    {
     "name": "stdout",
     "output_type": "stream",
     "text": [
      "Second matrix:\n",
      " [[1. 2. 3.]\n",
      " [4. 5. 6.]\n",
      " [7. 8. 9.]]\n",
      "Addition of the two matrices:\n",
      " [[ 2.  4.  6.]\n",
      " [ 8. 10. 12.]\n",
      " [14. 16. 18.]]\n",
      "\n",
      "1. Add two matrices\n",
      "\n",
      "2. Subtract two matrices\n",
      "\n",
      "3. Scalar Matrix Multiplication\n",
      "\n",
      "4. Elementwise Matrix Multiplication\n",
      "\n",
      "5. Matrix Multiplication\n",
      "\n",
      "6. Matrix Transpose\n",
      "\n",
      "7. Trace of a Matrix\n",
      "\n",
      "8. Solve System of Linear Equations\n",
      "\n",
      "9. Determinant\n",
      "\n",
      "10. Inverse\n",
      "\n",
      "11. Eigen values and Eigen vectors\n",
      "\n",
      "12. Exit\n"
     ]
    },
    {
     "name": "stdin",
     "output_type": "stream",
     "text": [
      "Enter your choice 2\n",
      "Enter no of rows for first matrix: 3\n",
      "Enter no of rows for second matrix: 3\n",
      "Enter no of columns for first matrix: 3\n",
      "Enter no of columns for second matrix: 3\n"
     ]
    },
    {
     "name": "stdout",
     "output_type": "stream",
     "text": [
      "Enter elements of the first matrix row by row:\n",
      "\n"
     ]
    },
    {
     "name": "stdin",
     "output_type": "stream",
     "text": [
      " 1 4 9\n",
      " 12 4 7\n",
      " 11 11 11\n"
     ]
    },
    {
     "name": "stdout",
     "output_type": "stream",
     "text": [
      "First matrix:\n",
      " [[ 1.  4.  9.]\n",
      " [12.  4.  7.]\n",
      " [11. 11. 11.]]\n",
      "Enter elements of the second matrix row by row:\n",
      "\n"
     ]
    },
    {
     "name": "stdin",
     "output_type": "stream",
     "text": [
      " 1 2 3\n",
      " 4 5 6\n",
      " 7 8 9\n"
     ]
    },
    {
     "name": "stdout",
     "output_type": "stream",
     "text": [
      "Second matrix:\n",
      " [[1. 2. 3.]\n",
      " [4. 5. 6.]\n",
      " [7. 8. 9.]]\n",
      "Subtraction of the two matrices:\n",
      " [[ 0.  2.  6.]\n",
      " [ 8. -1.  1.]\n",
      " [ 4.  3.  2.]]\n",
      "\n",
      "1. Add two matrices\n",
      "\n",
      "2. Subtract two matrices\n",
      "\n",
      "3. Scalar Matrix Multiplication\n",
      "\n",
      "4. Elementwise Matrix Multiplication\n",
      "\n",
      "5. Matrix Multiplication\n",
      "\n",
      "6. Matrix Transpose\n",
      "\n",
      "7. Trace of a Matrix\n",
      "\n",
      "8. Solve System of Linear Equations\n",
      "\n",
      "9. Determinant\n",
      "\n",
      "10. Inverse\n",
      "\n",
      "11. Eigen values and Eigen vectors\n",
      "\n",
      "12. Exit\n"
     ]
    },
    {
     "name": "stdin",
     "output_type": "stream",
     "text": [
      "Enter your choice 3\n",
      "Enter no of rows: 3\n",
      "Enter no of columns: 3\n",
      "Enter the number to perform scalar multiplication: 4\n"
     ]
    },
    {
     "name": "stdout",
     "output_type": "stream",
     "text": [
      "Enter elements of the matrix row by row:\n",
      "\n"
     ]
    },
    {
     "name": "stdin",
     "output_type": "stream",
     "text": [
      " 1 2 3\n",
      " 4 5 6\n",
      " 7 8 9\n"
     ]
    },
    {
     "name": "stdout",
     "output_type": "stream",
     "text": [
      "Scalar multiplication:\n",
      " [[ 4.  8. 12.]\n",
      " [16. 20. 24.]\n",
      " [28. 32. 36.]]\n",
      "\n",
      "1. Add two matrices\n",
      "\n",
      "2. Subtract two matrices\n",
      "\n",
      "3. Scalar Matrix Multiplication\n",
      "\n",
      "4. Elementwise Matrix Multiplication\n",
      "\n",
      "5. Matrix Multiplication\n",
      "\n",
      "6. Matrix Transpose\n",
      "\n",
      "7. Trace of a Matrix\n",
      "\n",
      "8. Solve System of Linear Equations\n",
      "\n",
      "9. Determinant\n",
      "\n",
      "10. Inverse\n",
      "\n",
      "11. Eigen values and Eigen vectors\n",
      "\n",
      "12. Exit\n"
     ]
    },
    {
     "name": "stdin",
     "output_type": "stream",
     "text": [
      "Enter your choice 4\n",
      "Enter no of rows for first matrix: 3\n",
      "Enter no of rows for second matrix: 3\n",
      "Enter no of columns for first matrix: 3\n",
      "Enter no of columns for second matrix: 3\n"
     ]
    },
    {
     "name": "stdout",
     "output_type": "stream",
     "text": [
      "Enter elements of the first matrix row by row:\n",
      "\n"
     ]
    },
    {
     "name": "stdin",
     "output_type": "stream",
     "text": [
      " 1 2 3\n",
      " 4 5 6\n",
      " 7 8 9\n"
     ]
    },
    {
     "name": "stdout",
     "output_type": "stream",
     "text": [
      "First matrix:\n",
      " [[1. 2. 3.]\n",
      " [4. 5. 6.]\n",
      " [7. 8. 9.]]\n",
      "Enter elements of the second matrix row by row:\n",
      "\n"
     ]
    },
    {
     "name": "stdin",
     "output_type": "stream",
     "text": [
      " 1 2 3\n",
      " 4 5 6\n",
      " 7 8 9\n"
     ]
    },
    {
     "name": "stdout",
     "output_type": "stream",
     "text": [
      "Second matrix:\n",
      " [[1. 2. 3.]\n",
      " [4. 5. 6.]\n",
      " [7. 8. 9.]]\n",
      "Elementwise Matrix multiplication of the two matrices:\n",
      " [[ 1.  4.  9.]\n",
      " [16. 25. 36.]\n",
      " [49. 64. 81.]]\n",
      "\n",
      "1. Add two matrices\n",
      "\n",
      "2. Subtract two matrices\n",
      "\n",
      "3. Scalar Matrix Multiplication\n",
      "\n",
      "4. Elementwise Matrix Multiplication\n",
      "\n",
      "5. Matrix Multiplication\n",
      "\n",
      "6. Matrix Transpose\n",
      "\n",
      "7. Trace of a Matrix\n",
      "\n",
      "8. Solve System of Linear Equations\n",
      "\n",
      "9. Determinant\n",
      "\n",
      "10. Inverse\n",
      "\n",
      "11. Eigen values and Eigen vectors\n",
      "\n",
      "12. Exit\n"
     ]
    },
    {
     "name": "stdin",
     "output_type": "stream",
     "text": [
      "Enter your choice 5\n",
      "Enter no of rows for first matrix: 3\n",
      "Enter no of rows for second matrix: 3\n",
      "Enter no of columns for first matrix: 3\n",
      "Enter no of columns for second matrix: 3\n"
     ]
    },
    {
     "name": "stdout",
     "output_type": "stream",
     "text": [
      "Enter elements of the first matrix row by row:\n",
      "\n"
     ]
    },
    {
     "name": "stdin",
     "output_type": "stream",
     "text": [
      " 1 2 3\n",
      " 4 5 6\n",
      " 7 8 9\n"
     ]
    },
    {
     "name": "stdout",
     "output_type": "stream",
     "text": [
      "First matrix:\n",
      " [[1. 2. 3.]\n",
      " [4. 5. 6.]\n",
      " [7. 8. 9.]]\n",
      "Enter elements of the second matrix row by row:\n",
      "\n"
     ]
    },
    {
     "name": "stdin",
     "output_type": "stream",
     "text": [
      " 1 2 3\n",
      " 4 5 6\n",
      " 7 8 9\n"
     ]
    },
    {
     "name": "stdout",
     "output_type": "stream",
     "text": [
      "Second matrix:\n",
      " [[1. 2. 3.]\n",
      " [4. 5. 6.]\n",
      " [7. 8. 9.]]\n",
      "Matrix Multiplication of the two matrices:\n",
      " [[ 30.  36.  42.]\n",
      " [ 66.  81.  96.]\n",
      " [102. 126. 150.]]\n",
      "\n",
      "1. Add two matrices\n",
      "\n",
      "2. Subtract two matrices\n",
      "\n",
      "3. Scalar Matrix Multiplication\n",
      "\n",
      "4. Elementwise Matrix Multiplication\n",
      "\n",
      "5. Matrix Multiplication\n",
      "\n",
      "6. Matrix Transpose\n",
      "\n",
      "7. Trace of a Matrix\n",
      "\n",
      "8. Solve System of Linear Equations\n",
      "\n",
      "9. Determinant\n",
      "\n",
      "10. Inverse\n",
      "\n",
      "11. Eigen values and Eigen vectors\n",
      "\n",
      "12. Exit\n"
     ]
    },
    {
     "name": "stdin",
     "output_type": "stream",
     "text": [
      "Enter your choice 6\n",
      "Enter no of rows: 3\n",
      "Enter no of columns: 3\n"
     ]
    },
    {
     "name": "stdout",
     "output_type": "stream",
     "text": [
      "Enter elements of the matrix row by row:\n",
      "\n"
     ]
    },
    {
     "name": "stdin",
     "output_type": "stream",
     "text": [
      " 1 2 3\n",
      " 4 5 6\n",
      " 7 8 9\n"
     ]
    },
    {
     "name": "stdout",
     "output_type": "stream",
     "text": [
      "The matrix is:\n",
      " [[1. 2. 3.]\n",
      " [4. 5. 6.]\n",
      " [7. 8. 9.]]\n",
      "Transpose of the matrix:\n",
      " [[1. 4. 7.]\n",
      " [2. 5. 8.]\n",
      " [3. 6. 9.]]\n",
      "\n",
      "1. Add two matrices\n",
      "\n",
      "2. Subtract two matrices\n",
      "\n",
      "3. Scalar Matrix Multiplication\n",
      "\n",
      "4. Elementwise Matrix Multiplication\n",
      "\n",
      "5. Matrix Multiplication\n",
      "\n",
      "6. Matrix Transpose\n",
      "\n",
      "7. Trace of a Matrix\n",
      "\n",
      "8. Solve System of Linear Equations\n",
      "\n",
      "9. Determinant\n",
      "\n",
      "10. Inverse\n",
      "\n",
      "11. Eigen values and Eigen vectors\n",
      "\n",
      "12. Exit\n"
     ]
    },
    {
     "name": "stdin",
     "output_type": "stream",
     "text": [
      "Enter your choice 7\n",
      "Enter no of rows: 3\n",
      "Enter no of columns: 3\n"
     ]
    },
    {
     "name": "stdout",
     "output_type": "stream",
     "text": [
      "Enter elements of the matrix row by row:\n",
      "\n"
     ]
    },
    {
     "name": "stdin",
     "output_type": "stream",
     "text": [
      " 1 2 3\n",
      " 4 5 6\n",
      " 7 8 9\n"
     ]
    },
    {
     "name": "stdout",
     "output_type": "stream",
     "text": [
      "The matrix is:\n",
      " [[1. 2. 3.]\n",
      " [4. 5. 6.]\n",
      " [7. 8. 9.]]\n",
      "Trace of the matrix:\n",
      " 15.0\n",
      "\n",
      "1. Add two matrices\n",
      "\n",
      "2. Subtract two matrices\n",
      "\n",
      "3. Scalar Matrix Multiplication\n",
      "\n",
      "4. Elementwise Matrix Multiplication\n",
      "\n",
      "5. Matrix Multiplication\n",
      "\n",
      "6. Matrix Transpose\n",
      "\n",
      "7. Trace of a Matrix\n",
      "\n",
      "8. Solve System of Linear Equations\n",
      "\n",
      "9. Determinant\n",
      "\n",
      "10. Inverse\n",
      "\n",
      "11. Eigen values and Eigen vectors\n",
      "\n",
      "12. Exit\n"
     ]
    },
    {
     "name": "stdin",
     "output_type": "stream",
     "text": [
      "Enter your choice 8\n",
      "Enter no of equations: 3\n"
     ]
    },
    {
     "name": "stdout",
     "output_type": "stream",
     "text": [
      "Enter the system of equations' co-efficients line by line:\n"
     ]
    },
    {
     "name": "stdin",
     "output_type": "stream",
     "text": [
      " 2 3 -1 1\n",
      " -3 -1 2 -2\n",
      " 1 2 3 3\n"
     ]
    },
    {
     "name": "stdout",
     "output_type": "stream",
     "text": [
      "System of equations in form of Ax = b:\n",
      "\n",
      "A is:\n",
      " [[ 2.  3. -1.]\n",
      " [-3. -1.  2.]\n",
      " [ 1.  2.  3.]]\n",
      "b is:\n",
      " [[ 1.]\n",
      " [-2.]\n",
      " [ 3.]]\n",
      "Solution of the system of equations is: [[ 1.25]\n",
      " [-0.25]\n",
      " [ 0.75]]\n",
      "\n",
      "1. Add two matrices\n",
      "\n",
      "2. Subtract two matrices\n",
      "\n",
      "3. Scalar Matrix Multiplication\n",
      "\n",
      "4. Elementwise Matrix Multiplication\n",
      "\n",
      "5. Matrix Multiplication\n",
      "\n",
      "6. Matrix Transpose\n",
      "\n",
      "7. Trace of a Matrix\n",
      "\n",
      "8. Solve System of Linear Equations\n",
      "\n",
      "9. Determinant\n",
      "\n",
      "10. Inverse\n",
      "\n",
      "11. Eigen values and Eigen vectors\n",
      "\n",
      "12. Exit\n"
     ]
    },
    {
     "name": "stdin",
     "output_type": "stream",
     "text": [
      "Enter your choice 9\n",
      "Enter no of rows: 3\n",
      "Enter no of columns: 3\n"
     ]
    },
    {
     "name": "stdout",
     "output_type": "stream",
     "text": [
      "Enter elements of the matrix row by row:\n",
      "\n"
     ]
    },
    {
     "name": "stdin",
     "output_type": "stream",
     "text": [
      " 1 2 3\n",
      " 4 5 6\n",
      " 7 8 9\n"
     ]
    },
    {
     "name": "stdout",
     "output_type": "stream",
     "text": [
      "The matrix is:\n",
      " [[1. 2. 3.]\n",
      " [4. 5. 6.]\n",
      " [7. 8. 9.]]\n",
      "Determinant of the matrix:\n",
      " -9.51619735392994e-16\n",
      "\n",
      "1. Add two matrices\n",
      "\n",
      "2. Subtract two matrices\n",
      "\n",
      "3. Scalar Matrix Multiplication\n",
      "\n",
      "4. Elementwise Matrix Multiplication\n",
      "\n",
      "5. Matrix Multiplication\n",
      "\n",
      "6. Matrix Transpose\n",
      "\n",
      "7. Trace of a Matrix\n",
      "\n",
      "8. Solve System of Linear Equations\n",
      "\n",
      "9. Determinant\n",
      "\n",
      "10. Inverse\n",
      "\n",
      "11. Eigen values and Eigen vectors\n",
      "\n",
      "12. Exit\n"
     ]
    },
    {
     "name": "stdin",
     "output_type": "stream",
     "text": [
      "Enter your choice 10\n",
      "Enter no of rows: 3\n",
      "Enter no of columns: 3\n"
     ]
    },
    {
     "name": "stdout",
     "output_type": "stream",
     "text": [
      "Enter elements of the matrix row by row:\n",
      "\n"
     ]
    },
    {
     "name": "stdin",
     "output_type": "stream",
     "text": [
      " 1 2 3\n",
      " 4 5 6\n",
      " 7 8 9\n"
     ]
    },
    {
     "name": "stdout",
     "output_type": "stream",
     "text": [
      "The matrix is:\n",
      " [[1. 2. 3.]\n",
      " [4. 5. 6.]\n",
      " [7. 8. 9.]]\n",
      "Inverse of the matrix:\n",
      " [[ 3.15251974e+15 -6.30503948e+15  3.15251974e+15]\n",
      " [-6.30503948e+15  1.26100790e+16 -6.30503948e+15]\n",
      " [ 3.15251974e+15 -6.30503948e+15  3.15251974e+15]]\n",
      "\n",
      "1. Add two matrices\n",
      "\n",
      "2. Subtract two matrices\n",
      "\n",
      "3. Scalar Matrix Multiplication\n",
      "\n",
      "4. Elementwise Matrix Multiplication\n",
      "\n",
      "5. Matrix Multiplication\n",
      "\n",
      "6. Matrix Transpose\n",
      "\n",
      "7. Trace of a Matrix\n",
      "\n",
      "8. Solve System of Linear Equations\n",
      "\n",
      "9. Determinant\n",
      "\n",
      "10. Inverse\n",
      "\n",
      "11. Eigen values and Eigen vectors\n",
      "\n",
      "12. Exit\n"
     ]
    },
    {
     "name": "stdin",
     "output_type": "stream",
     "text": [
      "Enter your choice 11\n",
      "Enter no of rows: 3\n",
      "Enter no of columns: 3\n"
     ]
    },
    {
     "name": "stdout",
     "output_type": "stream",
     "text": [
      "Enter elements of the matrix row by row:\n",
      "\n"
     ]
    },
    {
     "name": "stdin",
     "output_type": "stream",
     "text": [
      " 1 2 3\n",
      " 4 5 6\n",
      " 7 8 9\n"
     ]
    },
    {
     "name": "stdout",
     "output_type": "stream",
     "text": [
      "The matrix is:\n",
      " [[1. 2. 3.]\n",
      " [4. 5. 6.]\n",
      " [7. 8. 9.]]\n",
      "Eigen values of the matrix:\n",
      " [ 1.61168440e+01 -1.11684397e+00 -3.38433605e-16]\n",
      "Eigen values of the matrix:\n",
      " [[-0.23197069 -0.78583024  0.40824829]\n",
      " [-0.52532209 -0.08675134 -0.81649658]\n",
      " [-0.8186735   0.61232756  0.40824829]]\n",
      "\n",
      "1. Add two matrices\n",
      "\n",
      "2. Subtract two matrices\n",
      "\n",
      "3. Scalar Matrix Multiplication\n",
      "\n",
      "4. Elementwise Matrix Multiplication\n",
      "\n",
      "5. Matrix Multiplication\n",
      "\n",
      "6. Matrix Transpose\n",
      "\n",
      "7. Trace of a Matrix\n",
      "\n",
      "8. Solve System of Linear Equations\n",
      "\n",
      "9. Determinant\n",
      "\n",
      "10. Inverse\n",
      "\n",
      "11. Eigen values and Eigen vectors\n",
      "\n",
      "12. Exit\n"
     ]
    },
    {
     "name": "stdin",
     "output_type": "stream",
     "text": [
      "Enter your choice 12\n"
     ]
    },
    {
     "name": "stdout",
     "output_type": "stream",
     "text": [
      "Exiting.....\n",
      "\n"
     ]
    }
   ],
   "source": [
    "choice = -1\n",
    "\n",
    "while choice != 0:\n",
    "\n",
    "    print(\"\\n1. Add two matrices\")\n",
    "    print(\"\\n2. Subtract two matrices\")\n",
    "    print(\"\\n3. Scalar Matrix Multiplication\")\n",
    "    print(\"\\n4. Elementwise Matrix Multiplication\")\n",
    "    print(\"\\n5. Matrix Multiplication\")\n",
    "    print(\"\\n6. Matrix Transpose\")\n",
    "    print(\"\\n7. Trace of a Matrix\")\n",
    "    print(\"\\n8. Solve System of Linear Equations\")\n",
    "    print(\"\\n9. Determinant\")\n",
    "    print(\"\\n10. Inverse\")\n",
    "    print(\"\\n11. Eigen values and Eigen vectors\")\n",
    "    print(\"\\n12. Exit\")\n",
    "    \n",
    "    choice = int(input(\"Enter your choice\"))\n",
    "    \n",
    "    if choice == 1:\n",
    "        r1 = int(input(\"Enter no of rows for first matrix:\"))\n",
    "        r2 = int(input(\"Enter no of rows for second matrix:\"))\n",
    "        \n",
    "        if r1 != r2:\n",
    "            print(\"No of rows should be equal\")\n",
    "            continue\n",
    "            \n",
    "        c1 = int(input(\"Enter no of columns for first matrix:\"))\n",
    "        c2 = int(input(\"Enter no of columns for second matrix:\"))\n",
    "\n",
    "        if c1 != c2:\n",
    "            print(\"No of columns should be equal\")\n",
    "            continue\n",
    "        \n",
    "        \n",
    "        arr1 = []\n",
    "        arr2 = []\n",
    "        \n",
    "        print(\"Enter elements of the first matrix row by row:\\n\")\n",
    "        arr1 = input_arr(r1, c1)\n",
    "        print(\"First matrix:\\n\", arr1)\n",
    "        \n",
    "        print(\"Enter elements of the second matrix row by row:\\n\")        \n",
    "        arr2 = input_arr(r2, c2)\n",
    "        print(\"Second matrix:\\n\", arr2)\n",
    "\n",
    "        print(\"Addition of the two matrices:\\n\", add_matrices(arr1, arr2))\n",
    "\n",
    "    elif choice == 2:\n",
    "        r1 = int(input(\"Enter no of rows for first matrix:\"))\n",
    "        r2 = int(input(\"Enter no of rows for second matrix:\"))\n",
    "        \n",
    "        if r1 != r2:\n",
    "            print(\"No of rows should be equal\")\n",
    "            continue\n",
    "            \n",
    "        c1 = int(input(\"Enter no of columns for first matrix:\"))\n",
    "        c2 = int(input(\"Enter no of columns for second matrix:\"))\n",
    "\n",
    "        if c1 != c2:\n",
    "            print(\"No of columns should be equal\")\n",
    "            continue\n",
    "        \n",
    "        \n",
    "        arr1 = []\n",
    "        arr2 = []\n",
    "        \n",
    "        print(\"Enter elements of the first matrix row by row:\\n\")\n",
    "        arr1 = input_arr(r1, c1)\n",
    "        print(\"First matrix:\\n\", arr1)\n",
    "        \n",
    "        print(\"Enter elements of the second matrix row by row:\\n\")        \n",
    "        arr2 = input_arr(r2, c2)\n",
    "        print(\"Second matrix:\\n\", arr2)\n",
    "\n",
    "        print(\"Subtraction of the two matrices:\\n\", sub_matrices(arr1, arr2))\n",
    "\n",
    "    elif choice == 3:\n",
    "        r = int(input(\"Enter no of rows:\"))\n",
    "        c = int(input(\"Enter no of columns:\"))\n",
    "        k = int(input(\"Enter the number to perform scalar multiplication:\"))\n",
    "        arr = []\n",
    "\n",
    "        print(\"Enter elements of the matrix row by row:\\n\")\n",
    "        arr = input_arr(r, c)\n",
    "        print(\"Scalar multiplication:\\n\", scalar_mul(arr, k))\n",
    "        \n",
    "    elif choice == 4:\n",
    "        \n",
    "        r1 = int(input(\"Enter no of rows for first matrix:\"))\n",
    "        r2 = int(input(\"Enter no of rows for second matrix:\"))\n",
    "        \n",
    "        if r1 != r2:\n",
    "            print(\"No of rows should be equal\")\n",
    "            continue\n",
    "            \n",
    "        c1 = int(input(\"Enter no of columns for first matrix:\"))\n",
    "        c2 = int(input(\"Enter no of columns for second matrix:\"))\n",
    "\n",
    "        if c1 != c2:\n",
    "            print(\"No of columns should be equal\")\n",
    "            continue\n",
    "        \n",
    "        \n",
    "        arr1 = []\n",
    "        arr2 = []\n",
    "        \n",
    "        print(\"Enter elements of the first matrix row by row:\\n\")\n",
    "        arr1 = input_arr(r1, c1)\n",
    "        print(\"First matrix:\\n\", arr1)\n",
    "        \n",
    "        print(\"Enter elements of the second matrix row by row:\\n\")        \n",
    "        arr2 = input_arr(r2, c2)\n",
    "        print(\"Second matrix:\\n\", arr2)\n",
    "\n",
    "        print(\"Elementwise Matrix multiplication of the two matrices:\\n\", element_wise_mul(arr1, arr2))\n",
    "\n",
    "    elif choice == 5:\n",
    "\n",
    "        r1 = int(input(\"Enter no of rows for first matrix:\"))\n",
    "        r2 = int(input(\"Enter no of rows for second matrix:\"))\n",
    "            \n",
    "        c1 = int(input(\"Enter no of columns for first matrix:\"))\n",
    "        c2 = int(input(\"Enter no of columns for second matrix:\"))\n",
    "\n",
    "        if c1 != r2:\n",
    "            print(\"Invalid inputs\\n\")\n",
    "            continue\n",
    "        \n",
    "        \n",
    "        arr1 = []\n",
    "        arr2 = []\n",
    "        \n",
    "        print(\"Enter elements of the first matrix row by row:\\n\")\n",
    "        arr1 = input_arr(r1, c1)\n",
    "        print(\"First matrix:\\n\", arr1)\n",
    "        \n",
    "        print(\"Enter elements of the second matrix row by row:\\n\")        \n",
    "        arr2 = input_arr(r2, c2)\n",
    "        print(\"Second matrix:\\n\", arr2)\n",
    "\n",
    "        print(\"Matrix Multiplication of the two matrices:\\n\", matrix_mul(arr1, arr2))\n",
    "\n",
    "    elif choice == 6:\n",
    "\n",
    "        r = int(input(\"Enter no of rows:\"))\n",
    "        c = int(input(\"Enter no of columns:\"))\n",
    "        #k = int(input(\"Enter the number to perform scalar multiplication:\"))\n",
    "        arr = []\n",
    "        print(\"Enter elements of the matrix row by row:\\n\")\n",
    "        arr = input_arr(r, c)\n",
    "        print(\"The matrix is:\\n\", arr)\n",
    "        print(\"Transpose of the matrix:\\n\", matrix_transpose(arr))\n",
    "\n",
    "    elif choice == 7:\n",
    "\n",
    "        r = int(input(\"Enter no of rows:\"))\n",
    "        c = int(input(\"Enter no of columns:\"))\n",
    "        #k = int(input(\"Enter the number to perform scalar multiplication:\"))\n",
    "        arr = []\n",
    "        print(\"Enter elements of the matrix row by row:\\n\")\n",
    "        arr = input_arr(r, c)\n",
    "        print(\"The matrix is:\\n\", arr)\n",
    "        print(\"Trace of the matrix:\\n\", matrix_trace(arr))\n",
    "\n",
    "    elif choice == 8:\n",
    "\n",
    "        n = int(input(\"Enter no of equations:\"))\n",
    "        print(\"Enter the system of equations' co-efficients line by line:\")\n",
    "        sys =[]\n",
    "\n",
    "        for i in range(n):\n",
    "            row = list(map(float, input().split()))\n",
    "            sys.append(row)\n",
    "            \n",
    "        mat = np.array(sys)\n",
    "        A = mat[:, : -1]\n",
    "        b = mat[:, -1].reshape(len(sys), 1)\n",
    "        print(\"System of equations in form of Ax = b:\\n\")\n",
    "        print(\"A is:\\n\", A)\n",
    "        print(\"b is:\\n\", b)\n",
    "        print(\"Solution of the system of equations is:\", sol_matrix(A, b))\n",
    "\n",
    "    elif choice == 9:\n",
    "\n",
    "        r = int(input(\"Enter no of rows:\"))\n",
    "        c = int(input(\"Enter no of columns:\"))\n",
    "        #k = int(input(\"Enter the number to perform scalar multiplication:\"))\n",
    "        arr = []\n",
    "        print(\"Enter elements of the matrix row by row:\\n\")\n",
    "        arr = input_arr(r, c)\n",
    "        print(\"The matrix is:\\n\", arr)\n",
    "        print(\"Determinant of the matrix:\\n\", det_matrix(arr))\n",
    "        \n",
    "    elif choice == 10:\n",
    "\n",
    "        r = int(input(\"Enter no of rows:\"))\n",
    "        c = int(input(\"Enter no of columns:\"))\n",
    "        #k = int(input(\"Enter the number to perform scalar multiplication:\"))\n",
    "        arr = []\n",
    "        print(\"Enter elements of the matrix row by row:\\n\")\n",
    "        arr = input_arr(r, c)\n",
    "        print(\"The matrix is:\\n\", arr)\n",
    "        if det_matrix(arr) == 0:\n",
    "            print(\"Inverse for the matrix does not exist\\n\")\n",
    "            continue\n",
    "        print(\"Inverse of the matrix:\\n\", inv_matrix(arr))\n",
    "\n",
    "    elif choice == 11:\n",
    "\n",
    "        r = int(input(\"Enter no of rows:\"))\n",
    "        c = int(input(\"Enter no of columns:\"))\n",
    "        #k = int(input(\"Enter the number to perform scalar multiplication:\"))\n",
    "        arr = []\n",
    "        print(\"Enter elements of the matrix row by row:\\n\")\n",
    "        arr = input_arr(r, c)\n",
    "        print(\"The matrix is:\\n\", arr)\n",
    "        eigen_values, eigen_vectors = eigen_matrix(arr)\n",
    "        print(\"Eigen values of the matrix:\\n\", eigen_values)\n",
    "        print(\"Eigen values of the matrix:\\n\", eigen_vectors)\n",
    "\n",
    "    elif choice == 12:\n",
    "\n",
    "        print(\"Exiting.....\\n\")\n",
    "        choice = 0\n",
    "\n",
    "    else:\n",
    "        print(\"Invalid input\\n\")\n",
    "        continue"
   ]
  },
  {
   "cell_type": "code",
   "execution_count": null,
   "id": "6c30c96b-c40a-49a3-b477-972129963766",
   "metadata": {},
   "outputs": [],
   "source": []
  }
 ],
 "metadata": {
  "kernelspec": {
   "display_name": "Python 3 (ipykernel)",
   "language": "python",
   "name": "python3"
  },
  "language_info": {
   "codemirror_mode": {
    "name": "ipython",
    "version": 3
   },
   "file_extension": ".py",
   "mimetype": "text/x-python",
   "name": "python",
   "nbconvert_exporter": "python",
   "pygments_lexer": "ipython3",
   "version": "3.12.4"
  }
 },
 "nbformat": 4,
 "nbformat_minor": 5
}
