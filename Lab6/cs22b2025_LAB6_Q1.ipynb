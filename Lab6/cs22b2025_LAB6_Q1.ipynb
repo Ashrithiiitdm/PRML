{
 "cells": [
  {
   "cell_type": "markdown",
   "metadata": {},
   "source": [
    "1.Find and plot the decision boundary between class ω1 and ω2. Assume P(ω1) = P(ω2).\n",
    "\n",
    "ω1 = [1,6; 3,4; 3,8; 5,6]\n",
    "\n",
    "ω2 = [3,0; 1,-2;3,-4;5,-2]"
   ]
  },
  {
   "cell_type": "code",
   "execution_count": 36,
   "metadata": {},
   "outputs": [],
   "source": [
    "import numpy as np\n",
    "import pandas as pd\n",
    "import matplotlib.pyplot as plt"
   ]
  },
  {
   "cell_type": "code",
   "execution_count": 37,
   "metadata": {},
   "outputs": [],
   "source": [
    "\n",
    "\n",
    "#Function to check whether the data falls under case 1\n",
    "def isCase1(mat):\n",
    "    first = mat[0][0]\n",
    "    for i in range(1, len(mat)):\n",
    "        if mat[i][i] != first:\n",
    "            return False\n",
    "    return True\n",
    "\n",
    "\n",
    "#If the data falls under case-1 discriminant function is computed accordingly.\n",
    "def linear_case1(w, pw, cov_mat):\n",
    "    u1 = np.mean(w, axis=0)\n",
    "    cov = cov_mat[0][0]\n",
    "    weight = u1 / cov\n",
    "    bias = np.log(pw) - 0.5 * np.transpose(u1) @ u1 / (cov ** 2)\n",
    "    return weight, bias\n",
    "\n",
    "#If the data falls under case-2 discriminant function is computed accordingly.\n",
    "def linear_case2(w, pw, cov_mat):\n",
    "    u1 = np.mean(w, axis=0)\n",
    "    inv_cov = np.linalg.inv(cov_mat)\n",
    "    weight = inv_cov @ u1\n",
    "    bias = np.log(pw) - 0.5 * u1.T @ inv_cov @ u1\n",
    "    return weight, bias\n",
    "\n",
    "#If the data falls under case-3 discriminant function is computed accordingly.\n",
    "def non_linear(w, pw, cov_mat):\n",
    "    u1 = np.mean(w, axis=0)\n",
    "    inv_cov = np.linalg.inv(cov_mat)\n",
    "    weight1 = -0.5 * inv_cov\n",
    "    weight2 = inv_cov @ u1\n",
    "    bias = np.log(pw) - 0.5 * np.log(np.linalg.det(cov_mat)) - 0.5 * u1.T @ inv_cov @ u1\n",
    "    return weight1, weight2, bias\n",
    "\n",
    "\n",
    "#wieghts and biases are extracted from above functions by checking the cases for the given data.\n",
    "def bayes_classifier(w1, w2, pw1, pw2):\n",
    "    w1_cov = np.cov(w1, rowvar=False)\n",
    "    w2_cov = np.cov(w2, rowvar=False)\n",
    "    \n",
    "    if np.allclose(w1_cov, w2_cov):\n",
    "        weight1, bias1 = linear_case2(w1, pw1, w1_cov)\n",
    "        weight2, bias2 = linear_case2(w2, pw2, w2_cov)\n",
    "        return lambda x: (weight1 - weight2) @ x + (bias1 - bias2)\n",
    "    elif isCase1(w1_cov) and isCase1(w2_cov):\n",
    "        weight1, bias1 = linear_case1(w1, pw1, w1_cov)\n",
    "        weight2, bias2 = linear_case1(w2, pw2, w2_cov)\n",
    "        return lambda x: (weight1 - weight2) @ x + (bias1 - bias2)\n",
    "    else:\n",
    "        weight1_1, weight1_2, bias1 = non_linear(w1, pw1, w1_cov)\n",
    "        weight2_1, weight2_2, bias2 = non_linear(w2, pw2, w2_cov)\n",
    "        return lambda x: x.T @ (weight1_1 - weight2_1) @ x + np.dot(weight1_2 - weight2_2, x) + (bias1 - bias2)\n",
    "\n",
    "\n",
    "\n"
   ]
  },
  {
   "cell_type": "code",
   "execution_count": 38,
   "metadata": {},
   "outputs": [],
   "source": [
    "w1 = np.array([[1, 6], [3, 4], [3, 8], [5, 6]])\n",
    "w2 = np.array([[3, 0], [1, -2], [3, -4], [5, -2]])\n",
    "pw1 = 0.5\n",
    "pw2 = 0.5"
   ]
  },
  {
   "cell_type": "code",
   "execution_count": 39,
   "metadata": {},
   "outputs": [
    {
     "data": {
      "image/png": "[encoded data removed]",
      "text/plain": [
       "<Figure size 800x600 with 1 Axes>"
      ]
     },
     "metadata": {},
     "output_type": "display_data"
    }
   ],
   "source": [
    "result = bayes_classifier(w1, w2, pw1, pw2)\n",
    "x_min, x_max = min(np.min(w1[:,0]), np.min(w2[:,0])) - 1, max(np.max(w1[:,0]), np.max(w2[:,0])) + 1\n",
    "y_min, y_max = min(np.min(w1[:,1]), np.min(w2[:,1])) - 1, max(np.max(w1[:,1]), np.max(w2[:,1])) + 1\n",
    "xx, yy = np.meshgrid(np.linspace(x_min, x_max, 500), np.linspace(y_min, y_max, 500))\n",
    "\n",
    "# Evaluate the decision boundary difference f1 - f2 at each grid point\n",
    "zz = np.zeros(xx.shape)\n",
    "for i in range(xx.shape[0]):\n",
    "    for j in range(xx.shape[1]):\n",
    "        zz[i, j] = result(np.array([xx[i, j], yy[i, j]]))\n",
    "\n",
    "#print(zz)\n",
    "\n",
    "# Plotting the contour of the difference between f1 and f2\n",
    "plt.figure(figsize=(8, 6))\n",
    "plt.contour(xx, yy, zz, levels=[0], colors='k', linestyles='--')  # Decision boundary (f1 - f2 = 0)\n",
    "\n",
    "# Plotting the points from w1 and w2\n",
    "plt.scatter(w1[:, 0], w1[:, 1], color='blue', label='Class 1')\n",
    "plt.scatter(w2[:, 0], w2[:, 1], color='red', label='Class 2')\n",
    "\n",
    "# Plot details\n",
    "plt.title('Decision Boundary and Classes')\n",
    "plt.xlabel('X1')\n",
    "plt.ylabel('X2')\n",
    "plt.legend()\n",
    "plt.grid(True)\n",
    "\n",
    "plt.show()"
   ]
  },
  {
   "cell_type": "code",
   "execution_count": null,
   "metadata": {},
   "outputs": [],
   "source": []
  }
 ],
 "metadata": {
  "kernelspec": {
   "display_name": "base",
   "language": "python",
   "name": "python3"
  },
  "language_info": {
   "codemirror_mode": {
    "name": "ipython",
    "version": 3
   },
   "file_extension": ".py",
   "mimetype": "text/x-python",
   "name": "python",
   "nbconvert_exporter": "python",
   "pygments_lexer": "ipython3",
   "version": "3.12.2"
  }
 },
 "nbformat": 4,
 "nbformat_minor": 2
}
