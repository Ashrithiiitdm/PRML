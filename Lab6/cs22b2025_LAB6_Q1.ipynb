{
 "cells": [
  {
   "cell_type": "markdown",
   "metadata": {},
   "source": [
    "1.Find and plot the decision boundary between class ω1 and ω2. Assume P(ω1) = P(ω2).\n",
    "\n",
    "ω1 = [1,6; 3,4; 3,8; 5,6]\n",
    "\n",
    "ω2 = [3,0; 1,-2;3,-4;5,-2]"
   ]
  },
  {
   "cell_type": "code",
   "execution_count": 1,
   "metadata": {},
   "outputs": [],
   "source": [
    "import numpy as np\n",
    "import pandas as pd\n",
    "import matplotlib.pyplot as plt"
   ]
  },
  {
   "cell_type": "code",
   "execution_count": null,
   "metadata": {},
   "outputs": [],
   "source": [
    "def linear_case1(w, pw):\n",
    "    u1 = np.mean(w, axis = 1)\n",
    "    cov_mat = np.cov(w)\n",
    "    cov = cov_mat[0][0]\n",
    "    weight = u1 / cov**2\n",
    "    bias = np.log(weight) -  (np.T(u1) * u1 / 2*(cov ** 2))\n",
    "    \n",
    "     \n",
    "def linear_case2(w1, w2, pw1, pw2):\n",
    "\n",
    "\n",
    "def non_linear(w1, w2, pw1, pw2):\n",
    "\n",
    "def bayes_classifier(w1, w2):\n",
    "    w1_cov = np.cov(w1)\n",
    "    w2_cov = np.cov(w2)\n",
    "\n",
    "\n",
    "\n",
    "\n",
    "pw1 = 0.5\n",
    "pw2 = 0.5\n"
   ]
  }
 ],
 "metadata": {
  "kernelspec": {
   "display_name": "base",
   "language": "python",
   "name": "python3"
  },
  "language_info": {
   "codemirror_mode": {
    "name": "ipython",
    "version": 3
   },
   "file_extension": ".py",
   "mimetype": "text/x-python",
   "name": "python",
   "nbconvert_exporter": "python",
   "pygments_lexer": "ipython3",
   "version": "3.12.2"
  }
 },
 "nbformat": 4,
 "nbformat_minor": 2
}
