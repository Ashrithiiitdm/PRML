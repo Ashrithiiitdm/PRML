{
 "cells": [
  {
   "cell_type": "raw",
   "metadata": {
    "vscode": {
     "languageId": "raw"
    }
   },
   "source": [
    "\n",
    "2. You are given the famous Iris dataset (iris.csv), which contains samples of iris flowers, \n",
    "each described by four features: sepal length, sepal width, petal length, and petal width. \n",
    "The dataset is labeled with three classes: Setosa, Versicolor, and Virginica. The iris.csv is present in the Submission link.\n",
    "a. First take 2 dimensions/features, that is, Sepal Length and Sepal Width.\n",
    "Your task is to implement a classification algorithm using the Euclidean distance metric to predict the class of a given iris sample. \n"
   ]
  },
  {
   "cell_type": "code",
   "execution_count": 96,
   "metadata": {},
   "outputs": [
    {
     "data": {
      "text/html": [
       "<div>\n",
       "<style scoped>\n",
       "    .dataframe tbody tr th:only-of-type {\n",
       "        vertical-align: middle;\n",
       "    }\n",
       "\n",
       "    .dataframe tbody tr th {\n",
       "        vertical-align: top;\n",
       "    }\n",
       "\n",
       "    .dataframe thead th {\n",
       "        text-align: right;\n",
       "    }\n",
       "</style>\n",
       "<table border=\"1\" class=\"dataframe\">\n",
       "  <thead>\n",
       "    <tr style=\"text-align: right;\">\n",
       "      <th></th>\n",
       "      <th>sepal.length</th>\n",
       "      <th>sepal.width</th>\n",
       "      <th>petal.length</th>\n",
       "      <th>petal.width</th>\n",
       "      <th>variety</th>\n",
       "    </tr>\n",
       "  </thead>\n",
       "  <tbody>\n",
       "    <tr>\n",
       "      <th>0</th>\n",
       "      <td>5.1</td>\n",
       "      <td>3.5</td>\n",
       "      <td>1.4</td>\n",
       "      <td>0.2</td>\n",
       "      <td>Setosa</td>\n",
       "    </tr>\n",
       "    <tr>\n",
       "      <th>1</th>\n",
       "      <td>4.9</td>\n",
       "      <td>3.0</td>\n",
       "      <td>1.4</td>\n",
       "      <td>0.2</td>\n",
       "      <td>Setosa</td>\n",
       "    </tr>\n",
       "    <tr>\n",
       "      <th>2</th>\n",
       "      <td>4.7</td>\n",
       "      <td>3.2</td>\n",
       "      <td>1.3</td>\n",
       "      <td>0.2</td>\n",
       "      <td>Setosa</td>\n",
       "    </tr>\n",
       "    <tr>\n",
       "      <th>3</th>\n",
       "      <td>4.6</td>\n",
       "      <td>3.1</td>\n",
       "      <td>1.5</td>\n",
       "      <td>0.2</td>\n",
       "      <td>Setosa</td>\n",
       "    </tr>\n",
       "    <tr>\n",
       "      <th>4</th>\n",
       "      <td>5.0</td>\n",
       "      <td>3.6</td>\n",
       "      <td>1.4</td>\n",
       "      <td>0.2</td>\n",
       "      <td>Setosa</td>\n",
       "    </tr>\n",
       "    <tr>\n",
       "      <th>...</th>\n",
       "      <td>...</td>\n",
       "      <td>...</td>\n",
       "      <td>...</td>\n",
       "      <td>...</td>\n",
       "      <td>...</td>\n",
       "    </tr>\n",
       "    <tr>\n",
       "      <th>145</th>\n",
       "      <td>6.7</td>\n",
       "      <td>3.0</td>\n",
       "      <td>5.2</td>\n",
       "      <td>2.3</td>\n",
       "      <td>Virginica</td>\n",
       "    </tr>\n",
       "    <tr>\n",
       "      <th>146</th>\n",
       "      <td>6.3</td>\n",
       "      <td>2.5</td>\n",
       "      <td>5.0</td>\n",
       "      <td>1.9</td>\n",
       "      <td>Virginica</td>\n",
       "    </tr>\n",
       "    <tr>\n",
       "      <th>147</th>\n",
       "      <td>6.5</td>\n",
       "      <td>3.0</td>\n",
       "      <td>5.2</td>\n",
       "      <td>2.0</td>\n",
       "      <td>Virginica</td>\n",
       "    </tr>\n",
       "    <tr>\n",
       "      <th>148</th>\n",
       "      <td>6.2</td>\n",
       "      <td>3.4</td>\n",
       "      <td>5.4</td>\n",
       "      <td>2.3</td>\n",
       "      <td>Virginica</td>\n",
       "    </tr>\n",
       "    <tr>\n",
       "      <th>149</th>\n",
       "      <td>5.9</td>\n",
       "      <td>3.0</td>\n",
       "      <td>5.1</td>\n",
       "      <td>1.8</td>\n",
       "      <td>Virginica</td>\n",
       "    </tr>\n",
       "  </tbody>\n",
       "</table>\n",
       "<p>150 rows × 5 columns</p>\n",
       "</div>"
      ],
      "text/plain": [
       "     sepal.length  sepal.width  petal.length  petal.width    variety\n",
       "0             5.1          3.5           1.4          0.2     Setosa\n",
       "1             4.9          3.0           1.4          0.2     Setosa\n",
       "2             4.7          3.2           1.3          0.2     Setosa\n",
       "3             4.6          3.1           1.5          0.2     Setosa\n",
       "4             5.0          3.6           1.4          0.2     Setosa\n",
       "..            ...          ...           ...          ...        ...\n",
       "145           6.7          3.0           5.2          2.3  Virginica\n",
       "146           6.3          2.5           5.0          1.9  Virginica\n",
       "147           6.5          3.0           5.2          2.0  Virginica\n",
       "148           6.2          3.4           5.4          2.3  Virginica\n",
       "149           5.9          3.0           5.1          1.8  Virginica\n",
       "\n",
       "[150 rows x 5 columns]"
      ]
     },
     "execution_count": 96,
     "metadata": {},
     "output_type": "execute_result"
    }
   ],
   "source": [
    "import numpy as np\n",
    "import pandas as pd\n",
    "\n",
    "#Loading the dataset into a dataframe\n",
    "iris_df = pd.read_csv('./iris.csv')\n",
    "iris_df"
   ]
  },
  {
   "cell_type": "code",
   "execution_count": 97,
   "metadata": {},
   "outputs": [
    {
     "data": {
      "text/html": [
       "<div>\n",
       "<style scoped>\n",
       "    .dataframe tbody tr th:only-of-type {\n",
       "        vertical-align: middle;\n",
       "    }\n",
       "\n",
       "    .dataframe tbody tr th {\n",
       "        vertical-align: top;\n",
       "    }\n",
       "\n",
       "    .dataframe thead th {\n",
       "        text-align: right;\n",
       "    }\n",
       "</style>\n",
       "<table border=\"1\" class=\"dataframe\">\n",
       "  <thead>\n",
       "    <tr style=\"text-align: right;\">\n",
       "      <th></th>\n",
       "      <th>sepal.length</th>\n",
       "      <th>sepal.width</th>\n",
       "      <th>variety</th>\n",
       "    </tr>\n",
       "  </thead>\n",
       "  <tbody>\n",
       "    <tr>\n",
       "      <th>0</th>\n",
       "      <td>5.1</td>\n",
       "      <td>3.5</td>\n",
       "      <td>Setosa</td>\n",
       "    </tr>\n",
       "    <tr>\n",
       "      <th>1</th>\n",
       "      <td>4.9</td>\n",
       "      <td>3.0</td>\n",
       "      <td>Setosa</td>\n",
       "    </tr>\n",
       "    <tr>\n",
       "      <th>2</th>\n",
       "      <td>4.7</td>\n",
       "      <td>3.2</td>\n",
       "      <td>Setosa</td>\n",
       "    </tr>\n",
       "    <tr>\n",
       "      <th>3</th>\n",
       "      <td>4.6</td>\n",
       "      <td>3.1</td>\n",
       "      <td>Setosa</td>\n",
       "    </tr>\n",
       "    <tr>\n",
       "      <th>4</th>\n",
       "      <td>5.0</td>\n",
       "      <td>3.6</td>\n",
       "      <td>Setosa</td>\n",
       "    </tr>\n",
       "    <tr>\n",
       "      <th>...</th>\n",
       "      <td>...</td>\n",
       "      <td>...</td>\n",
       "      <td>...</td>\n",
       "    </tr>\n",
       "    <tr>\n",
       "      <th>145</th>\n",
       "      <td>6.7</td>\n",
       "      <td>3.0</td>\n",
       "      <td>Virginica</td>\n",
       "    </tr>\n",
       "    <tr>\n",
       "      <th>146</th>\n",
       "      <td>6.3</td>\n",
       "      <td>2.5</td>\n",
       "      <td>Virginica</td>\n",
       "    </tr>\n",
       "    <tr>\n",
       "      <th>147</th>\n",
       "      <td>6.5</td>\n",
       "      <td>3.0</td>\n",
       "      <td>Virginica</td>\n",
       "    </tr>\n",
       "    <tr>\n",
       "      <th>148</th>\n",
       "      <td>6.2</td>\n",
       "      <td>3.4</td>\n",
       "      <td>Virginica</td>\n",
       "    </tr>\n",
       "    <tr>\n",
       "      <th>149</th>\n",
       "      <td>5.9</td>\n",
       "      <td>3.0</td>\n",
       "      <td>Virginica</td>\n",
       "    </tr>\n",
       "  </tbody>\n",
       "</table>\n",
       "<p>150 rows × 3 columns</p>\n",
       "</div>"
      ],
      "text/plain": [
       "     sepal.length  sepal.width    variety\n",
       "0             5.1          3.5     Setosa\n",
       "1             4.9          3.0     Setosa\n",
       "2             4.7          3.2     Setosa\n",
       "3             4.6          3.1     Setosa\n",
       "4             5.0          3.6     Setosa\n",
       "..            ...          ...        ...\n",
       "145           6.7          3.0  Virginica\n",
       "146           6.3          2.5  Virginica\n",
       "147           6.5          3.0  Virginica\n",
       "148           6.2          3.4  Virginica\n",
       "149           5.9          3.0  Virginica\n",
       "\n",
       "[150 rows x 3 columns]"
      ]
     },
     "execution_count": 97,
     "metadata": {},
     "output_type": "execute_result"
    }
   ],
   "source": [
    "#a. First take 2 dimensions/features, that is, Sepal Length and Sepal Width.\n",
    "\n",
    "# Here variety should also be taken as it is the class label\n",
    "df = pd.DataFrame()\n",
    "df['sepal.length'] = iris_df['sepal.length']\n",
    "df['sepal.width'] = iris_df['sepal.width']\n",
    "df['variety'] = iris_df['variety']\n",
    "df"
   ]
  },
  {
   "cell_type": "raw",
   "metadata": {
    "vscode": {
     "languageId": "raw"
    }
   },
   "source": [
    "i. Load the Iris dataset and split it into a training set and a testing set. \n",
    "The testing set should contain the first 3 samples of each class. \n",
    "Do NOT use the inbuilt function for splitting the data."
   ]
  },
  {
   "cell_type": "code",
   "execution_count": 98,
   "metadata": {},
   "outputs": [
    {
     "name": "stdout",
     "output_type": "stream",
     "text": [
      "Testing data:\n",
      "      sepal.length  sepal.width     variety\n",
      "0             5.1          3.5      Setosa\n",
      "1             4.9          3.0      Setosa\n",
      "2             4.7          3.2      Setosa\n",
      "50            7.0          3.2  Versicolor\n",
      "51            6.4          3.2  Versicolor\n",
      "52            6.9          3.1  Versicolor\n",
      "100           6.3          3.3   Virginica\n",
      "101           5.8          2.7   Virginica\n",
      "102           7.1          3.0   Virginica\n",
      "Training data:\n",
      "      sepal.length  sepal.width    variety\n",
      "3             4.6          3.1     Setosa\n",
      "4             5.0          3.6     Setosa\n",
      "5             5.4          3.9     Setosa\n",
      "6             4.6          3.4     Setosa\n",
      "7             5.0          3.4     Setosa\n",
      "..            ...          ...        ...\n",
      "145           6.7          3.0  Virginica\n",
      "146           6.3          2.5  Virginica\n",
      "147           6.5          3.0  Virginica\n",
      "148           6.2          3.4  Virginica\n",
      "149           5.9          3.0  Virginica\n",
      "\n",
      "[141 rows x 3 columns]\n"
     ]
    }
   ],
   "source": [
    "# test train split without inbuilt functions\n",
    "\n",
    "#Testing data\n",
    "test_df = []\n",
    "\n",
    "#First three samples of each variety are extracted.\n",
    "for class_label in df['variety'].unique():\n",
    "    sample = df[df['variety'] == class_label].head(3)\n",
    "    test_df.append(sample)\n",
    "\n",
    "# The list is concatenated into a data-frame.\n",
    "test_df = pd.concat(test_df)\n",
    "print(\"Testing data:\\n\", test_df)\n",
    "\n",
    "#Remaining all samples are used for training as the test-train split ratio is not mentioned in the question.\n",
    "training_df = df.drop(test_df.index) \n",
    "print(\"Training data:\\n\", training_df)"
   ]
  },
  {
   "cell_type": "markdown",
   "metadata": {
    "vscode": {
     "languageId": "raw"
    }
   },
   "source": [
    "ii. Plot all the training samples using scatter plot and write the inferences. "
   ]
  },
  {
   "cell_type": "code",
   "execution_count": 99,
   "metadata": {},
   "outputs": [
    {
     "data": {
      "image/png": "[encoded data removed]",
      "text/plain": [
       "<Figure size 1200x1200 with 1 Axes>"
      ]
     },
     "metadata": {},
     "output_type": "display_data"
    }
   ],
   "source": [
    "#Libraries used for scatter plot\n",
    "import matplotlib.pyplot as plt\n",
    "import seaborn as sns\n",
    "\n",
    "#Setting the style for the plot.\n",
    "sns.set_theme(style = 'whitegrid')\n",
    "\n",
    "#Creating a scatter plot for the training set.\n",
    "plt.figure(figsize = (12, 12))\n",
    "\n",
    "#Plotting sepal length vs sepal width.\n",
    "sns.scatterplot(x = training_df['sepal.length'], y = training_df['sepal.width'], hue = training_df['variety'], palette = 'Set1',s = 100)\n",
    "\n",
    "# Label for X-axis\n",
    "plt.xlabel('Sepal Length (cm)')\n",
    "\n",
    "# Label for Y-axis\n",
    "plt.ylabel('Sepal Width (cm)')\n",
    "\n",
    "#Title for plot.\n",
    "plt.title('Scatter Plot of Training Samples (Sepal Length vs Sepal Width)')\n",
    "\n",
    "#Legend for description of classes.\n",
    "plt.legend(title='Class')\n",
    "\n",
    "plt.show()"
   ]
  },
  {
   "cell_type": "raw",
   "metadata": {
    "vscode": {
     "languageId": "raw"
    }
   },
   "source": [
    "Inferences:\n",
    "1. Setosa class petals are grouped in the top left part with shorter sepal lengths and wider sepal widths and they are distinctly\n",
    "seperated from the other two classes making it easy to classify among the other two.\n",
    "2. Versicolor and Virginica classes have siginificant overlap in terms of sepal length and sepal width making it difficult to classify\n",
    "with these two features alone.\n",
    "3. So more features are needed to seperate these two classes."
   ]
  },
  {
   "cell_type": "markdown",
   "metadata": {
    "vscode": {
     "languageId": "raw"
    }
   },
   "source": [
    "iii. For each sample in the testing set, compute its Euclidean distance to all samples in the training set. "
   ]
  },
  {
   "cell_type": "code",
   "execution_count": 100,
   "metadata": {},
   "outputs": [
    {
     "name": "stdout",
     "output_type": "stream",
     "text": [
      "The Euclidean distances are:\n",
      " [[0.64031242 0.14142136 0.5        ... 1.48660687 1.1045361  0.94339811]\n",
      " [0.31622777 0.60827625 1.02956301 ... 1.6        1.36014705 1.        ]\n",
      " [0.14142136 0.5        0.98994949 ... 1.81107703 1.5132746  1.21655251]\n",
      " ...\n",
      " [1.71172428 1.33416641 1.08166538 ... 0.36055513 0.14142136 0.5       ]\n",
      " [1.26491106 1.20415946 1.26491106 ... 0.76157731 0.80622577 0.31622777]\n",
      " [2.5019992  2.18403297 1.92353841 ... 0.6        0.98488578 1.2       ]]\n"
     ]
    }
   ],
   "source": [
    "def euclidean_distance(test_f, train_f):\n",
    "    \n",
    "    #print(\"Testing features:\\n\", test_f)\n",
    "\n",
    "    #Calculating distances.\n",
    "    d = []\n",
    "\n",
    "    for ts in test_f:\n",
    "        dist = np.linalg.norm(train_f - ts, axis = 1)\n",
    "        d.append(dist)\n",
    "\n",
    "    distances = np.array(d)\n",
    "    return distances\n",
    "\n",
    "#Extract features except class label from training data and testing data.\n",
    "train_f = training_df.iloc[:, : -1].values\n",
    "test_f = test_df.iloc[:, : -1].values\n",
    "train_labels = training_df.iloc[:, -1].values\n",
    "#print(train_labels)\n",
    "print(\"The Euclidean distances are:\\n\", euclidean_distance(test_f, train_f))\n"
   ]
  },
  {
   "cell_type": "markdown",
   "metadata": {},
   "source": [
    "iv. Identify the K-nearest neighbors with the smallest Euclidean distances for each sample in the testing set, where K is a hyperparameter. "
   ]
  },
  {
   "cell_type": "code",
   "execution_count": 101,
   "metadata": {},
   "outputs": [],
   "source": [
    "# Function for identifying the K-nearest neighbours\n",
    "def find_k_neighbours(test_f, train_f, K):\n",
    "    k_neighbours = []\n",
    "\n",
    "    for ts in test_f:\n",
    "        \n",
    "        #Calculate distances to all training samples\n",
    "        d = np.linalg.norm(train_f - ts, axis = 1)\n",
    "\n",
    "        #Get the K nearest indices\n",
    "        k_nearest_i = d.argsort()[:K]\n",
    "\n",
    "        # Retrive those labels\n",
    "        k_labels = train_labels[k_nearest_i]\n",
    "\n",
    "        #Append them\n",
    "        k_neighbours.append(k_labels)\n",
    "    \n",
    "    return k_neighbours\n",
    "\n"
   ]
  },
  {
   "cell_type": "code",
   "execution_count": 102,
   "metadata": {},
   "outputs": [
    {
     "name": "stdout",
     "output_type": "stream",
     "text": [
      "Test sample 1: K  Nearest neighbours or Labels = ['Setosa' 'Setosa' 'Setosa' 'Setosa' 'Setosa']\n",
      "Test sample 2: K  Nearest neighbours or Labels = ['Setosa' 'Setosa' 'Setosa' 'Setosa' 'Setosa']\n",
      "Test sample 3: K  Nearest neighbours or Labels = ['Setosa' 'Setosa' 'Setosa' 'Setosa' 'Setosa']\n",
      "Test sample 4: K  Nearest neighbours or Labels = ['Virginica' 'Virginica' 'Virginica' 'Virginica' 'Virginica']\n",
      "Test sample 5: K  Nearest neighbours or Labels = ['Virginica' 'Virginica' 'Virginica' 'Versicolor' 'Virginica']\n",
      "Test sample 6: K  Nearest neighbours or Labels = ['Virginica' 'Virginica' 'Virginica' 'Virginica' 'Virginica']\n",
      "Test sample 7: K  Nearest neighbours or Labels = ['Versicolor' 'Virginica' 'Virginica' 'Virginica' 'Virginica']\n",
      "Test sample 8: K  Nearest neighbours or Labels = ['Versicolor' 'Virginica' 'Versicolor' 'Virginica' 'Versicolor']\n",
      "Test sample 9: K  Nearest neighbours or Labels = ['Virginica' 'Virginica' 'Virginica' 'Virginica' 'Virginica']\n"
     ]
    }
   ],
   "source": [
    "# Define the hyperparameter K\n",
    "K = 5\n",
    "\n",
    "#Computing the K-nearest neighbours using the above function.\n",
    "k_nearest_neighbours = find_k_neighbours(test_f, train_f, K)\n",
    "\n",
    "for i, neighbours in enumerate(k_nearest_neighbours):\n",
    "    print(f\"Test sample {i + 1}: K  Nearest neighbours or Labels = {neighbours}\")"
   ]
  },
  {
   "cell_type": "markdown",
   "metadata": {},
   "source": [
    "v. Determine the majority class among the K-nearest neighbors and assign it as the predicted class for the sample.\n"
   ]
  },
  {
   "cell_type": "code",
   "execution_count": 103,
   "metadata": {},
   "outputs": [],
   "source": [
    "from collections import Counter\n",
    "\n",
    "#Function to predict the class for the test dataset.\n",
    "def predict_class(k_nearest_neighbours):\n",
    "    predicted = []\n",
    "\n",
    "    for n in k_nearest_neighbours:\n",
    "        \n",
    "        #Get counts of each class in the k-nearest neighbours.\n",
    "        class_count = Counter(n)\n",
    "        #print(class_count)\n",
    "        \n",
    "        #Determining majority class\n",
    "        maj_class = class_count.most_common(1)[0][0]\n",
    "        \n",
    "        #Append the majority class to the output list\n",
    "        predicted.append(maj_class)\n",
    "    \n",
    "    return predicted"
   ]
  },
  {
   "cell_type": "code",
   "execution_count": 104,
   "metadata": {},
   "outputs": [
    {
     "name": "stdout",
     "output_type": "stream",
     "text": [
      "Test sample 1: Predicted class = Setosa\n",
      "Test sample 2: Predicted class = Setosa\n",
      "Test sample 3: Predicted class = Setosa\n",
      "Test sample 4: Predicted class = Virginica\n",
      "Test sample 5: Predicted class = Virginica\n",
      "Test sample 6: Predicted class = Virginica\n",
      "Test sample 7: Predicted class = Virginica\n",
      "Test sample 8: Predicted class = Versicolor\n",
      "Test sample 9: Predicted class = Virginica\n"
     ]
    }
   ],
   "source": [
    "#Displaying the predictions for the test dataset.\n",
    "predicted_classes = predict_class(k_nearest_neighbours)\n",
    "for i, predicted_class in enumerate(predicted_classes):\n",
    "    print(f\"Test sample {i + 1}: Predicted class = {predicted_class}\")"
   ]
  },
  {
   "cell_type": "markdown",
   "metadata": {},
   "source": [
    "vi. Evaluate the accuracy of your classifier on the testing set and report the results."
   ]
  },
  {
   "cell_type": "code",
   "execution_count": 105,
   "metadata": {},
   "outputs": [],
   "source": [
    "#Function to caluculate accuracy.\n",
    "def calculate_accuracy(test_df, predicted_classes):\n",
    "    \n",
    "    #Original class labels of the test dataset.\n",
    "    true_labels = np.array(test_df.iloc[:,-1].values)\n",
    "    \n",
    "    #Class labels predicted by the algorithm.\n",
    "    predicted_labels = np.array(predicted_classes)\n",
    "\n",
    "    #Getting the count of correct labels.\n",
    "    correct_predictions = np.sum(true_labels == predicted_labels)\n",
    "\n",
    "    #Accuracy.\n",
    "    accuracy = correct_predictions / len(true_labels)\n",
    "\n",
    "    return accuracy\n"
   ]
  },
  {
   "cell_type": "code",
   "execution_count": 106,
   "metadata": {},
   "outputs": [
    {
     "name": "stdout",
     "output_type": "stream",
     "text": [
      "Accuracy of the model is 55.56%\n"
     ]
    }
   ],
   "source": [
    "#Displaying the accuracy using the above function.\n",
    "\n",
    "accuracy = calculate_accuracy(test_df, predicted_classes)\n",
    "print(f\"Accuracy of the model is {accuracy * 100:.2f}%\")\n",
    "#print(test_df.iloc[:,-1].values)"
   ]
  },
  {
   "cell_type": "markdown",
   "metadata": {},
   "source": [
    "vii. Classify using sklearn library knn-classifier and compare your result."
   ]
  },
  {
   "cell_type": "code",
   "execution_count": 107,
   "metadata": {},
   "outputs": [
    {
     "name": "stdout",
     "output_type": "stream",
     "text": [
      "Accuracy of the KNN classifier using the sklearn libraries is 55.56%\n",
      "Accuracy of the model without using sklearn library is 55.56%\n"
     ]
    }
   ],
   "source": [
    "#Importing necessary libraries from sklearn\n",
    "from sklearn.neighbors import KNeighborsClassifier\n",
    "from sklearn.metrics import accuracy_score\n",
    "\n",
    "#Training the classifier\n",
    "knn_class = KNeighborsClassifier(n_neighbors=K)\n",
    "#Fitting the model\n",
    "knn_class.fit(train_f, train_labels)\n",
    "\n",
    "#Predicting the classes for test labels.\n",
    "sk_predicted_labels = knn_class.predict(test_f)\n",
    "\n",
    "#Accuracy of the model.\n",
    "sk_accuracy = accuracy_score(test_df.iloc[:, -1].values, sk_predicted_labels)\n",
    "\n",
    "#Printing the accuracy\n",
    "print(f\"Accuracy of the KNN classifier using the sklearn libraries is {sk_accuracy * 100:.2f}%\")\n",
    "#Accuracy of the manual model.\n",
    "print(f\"Accuracy of the model without using sklearn library is {accuracy * 100:.2f}%\")"
   ]
  },
  {
   "cell_type": "markdown",
   "metadata": {},
   "source": [
    "b. Repeat the same for all the four dimensions and skip plotting the data."
   ]
  },
  {
   "cell_type": "code",
   "execution_count": 108,
   "metadata": {},
   "outputs": [
    {
     "name": "stdout",
     "output_type": "stream",
     "text": [
      "Testing data:\n",
      "      sepal.length  sepal.width  petal.length  petal.width     variety\n",
      "0             5.1          3.5           1.4          0.2      Setosa\n",
      "1             4.9          3.0           1.4          0.2      Setosa\n",
      "2             4.7          3.2           1.3          0.2      Setosa\n",
      "50            7.0          3.2           4.7          1.4  Versicolor\n",
      "51            6.4          3.2           4.5          1.5  Versicolor\n",
      "52            6.9          3.1           4.9          1.5  Versicolor\n",
      "100           6.3          3.3           6.0          2.5   Virginica\n",
      "101           5.8          2.7           5.1          1.9   Virginica\n",
      "102           7.1          3.0           5.9          2.1   Virginica\n",
      "Training data:\n",
      "      sepal.length  sepal.width  petal.length  petal.width    variety\n",
      "3             4.6          3.1           1.5          0.2     Setosa\n",
      "4             5.0          3.6           1.4          0.2     Setosa\n",
      "5             5.4          3.9           1.7          0.4     Setosa\n",
      "6             4.6          3.4           1.4          0.3     Setosa\n",
      "7             5.0          3.4           1.5          0.2     Setosa\n",
      "..            ...          ...           ...          ...        ...\n",
      "145           6.7          3.0           5.2          2.3  Virginica\n",
      "146           6.3          2.5           5.0          1.9  Virginica\n",
      "147           6.5          3.0           5.2          2.0  Virginica\n",
      "148           6.2          3.4           5.4          2.3  Virginica\n",
      "149           5.9          3.0           5.1          1.8  Virginica\n",
      "\n",
      "[141 rows x 5 columns]\n"
     ]
    }
   ],
   "source": [
    "#Even for the four dimensions part of the question, I am using the same functions written manually without inbuilt libraries\n",
    "#as we can pass the features and labels as a parameter to the functions above.\n",
    "\n",
    "# test train split without inbuilt functions\n",
    "\n",
    "#Testing data\n",
    "testing_df = []\n",
    "\n",
    "#First three samples of each variety are extracted.\n",
    "for class_label in iris_df['variety'].unique():\n",
    "    sample = iris_df[df['variety'] == class_label].head(3)\n",
    "    testing_df.append(sample)\n",
    "\n",
    "# The list is concatenated into a data-frame.\n",
    "testing_df = pd.concat(testing_df)\n",
    "print(\"Testing data:\\n\", testing_df)\n",
    "\n",
    "#Remaining all samples are used for training as the test-train split ratio is not mentioned in the question.\n",
    "train_df = iris_df.drop(testing_df.index) \n",
    "print(\"Training data:\\n\", train_df)"
   ]
  },
  {
   "cell_type": "code",
   "execution_count": 109,
   "metadata": {},
   "outputs": [
    {
     "name": "stdout",
     "output_type": "stream",
     "text": [
      "The Euclidean distances are:\n",
      " [[0.64807407 0.14142136 0.6164414  ... 4.45982062 4.65080638 4.14004831]\n",
      " [0.33166248 0.60827625 1.09087121 ... 4.49888875 4.71805044 4.15331193]\n",
      " [0.24494897 0.50990195 1.08627805 ... 4.66154481 4.84871117 4.29883705]\n",
      " ...\n",
      " [5.33572863 5.31319113 4.90611863 ... 1.00995049 0.64807407 1.24498996]\n",
      " [4.17731971 4.24617475 3.92555729 ... 0.77459667 0.9486833  0.33166248]\n",
      " [5.4064776  5.35070089 4.92239779 ... 0.92736185 1.12249722 1.47309199]]\n"
     ]
    }
   ],
   "source": [
    "#Extract features except class label from training data and testing data.\n",
    "training_features = train_df.iloc[:, : -1].values\n",
    "testing_features = testing_df.iloc[:, : -1].values\n",
    "training_labels = train_df.iloc[:, -1].values\n",
    "\n",
    "#Getting the eucildean distance from the function that we created earlier.\n",
    "dist = euclidean_distance(testing_features, training_features)\n",
    "#print(train_labels)\n",
    "\n",
    "print(\"The Euclidean distances are:\\n\", dist)\n"
   ]
  },
  {
   "cell_type": "code",
   "execution_count": 110,
   "metadata": {},
   "outputs": [
    {
     "name": "stdout",
     "output_type": "stream",
     "text": [
      "Test sample 1: K  Nearest neighbours or Labels = ['Setosa' 'Setosa' 'Setosa' 'Setosa' 'Setosa']\n",
      "Test sample 2: K  Nearest neighbours or Labels = ['Setosa' 'Setosa' 'Setosa' 'Setosa' 'Setosa']\n",
      "Test sample 3: K  Nearest neighbours or Labels = ['Setosa' 'Setosa' 'Setosa' 'Setosa' 'Setosa']\n",
      "Test sample 4: K  Nearest neighbours or Labels = ['Versicolor' 'Versicolor' 'Versicolor' 'Versicolor' 'Versicolor']\n",
      "Test sample 5: K  Nearest neighbours or Labels = ['Versicolor' 'Versicolor' 'Versicolor' 'Versicolor' 'Versicolor']\n",
      "Test sample 6: K  Nearest neighbours or Labels = ['Versicolor' 'Versicolor' 'Versicolor' 'Versicolor' 'Versicolor']\n",
      "Test sample 7: K  Nearest neighbours or Labels = ['Virginica' 'Virginica' 'Virginica' 'Virginica' 'Virginica']\n",
      "Test sample 8: K  Nearest neighbours or Labels = ['Virginica' 'Virginica' 'Virginica' 'Virginica' 'Versicolor']\n",
      "Test sample 9: K  Nearest neighbours or Labels = ['Virginica' 'Virginica' 'Virginica' 'Virginica' 'Virginica']\n"
     ]
    }
   ],
   "source": [
    "# Define the hyperparameter K\n",
    "K = 5\n",
    "\n",
    "#Computing the K-nearest neighbours using the above function.\n",
    "k_nearest_Neighbours = find_k_neighbours(testing_features, training_features, K)\n",
    "\n",
    "for i, neighbours in enumerate(k_nearest_Neighbours):\n",
    "    print(f\"Test sample {i + 1}: K  Nearest neighbours or Labels = {neighbours}\")"
   ]
  },
  {
   "cell_type": "code",
   "execution_count": 111,
   "metadata": {},
   "outputs": [
    {
     "name": "stdout",
     "output_type": "stream",
     "text": [
      "Test sample 1: Predicted class = Setosa\n",
      "Test sample 2: Predicted class = Setosa\n",
      "Test sample 3: Predicted class = Setosa\n",
      "Test sample 4: Predicted class = Versicolor\n",
      "Test sample 5: Predicted class = Versicolor\n",
      "Test sample 6: Predicted class = Versicolor\n",
      "Test sample 7: Predicted class = Virginica\n",
      "Test sample 8: Predicted class = Virginica\n",
      "Test sample 9: Predicted class = Virginica\n"
     ]
    }
   ],
   "source": [
    "#Displaying the predictions for the test dataset.\n",
    "predicted_Classes = predict_class(k_nearest_Neighbours)\n",
    "for i, predicted_class in enumerate(predicted_Classes):\n",
    "    print(f\"Test sample {i + 1}: Predicted class = {predicted_class}\")"
   ]
  },
  {
   "cell_type": "code",
   "execution_count": 112,
   "metadata": {},
   "outputs": [
    {
     "name": "stdout",
     "output_type": "stream",
     "text": [
      "Accuracy of the model is 100.00%\n"
     ]
    }
   ],
   "source": [
    "#Computing accuracy\n",
    "accuracy_more = calculate_accuracy(testing_df, predicted_Classes)\n",
    "print(f\"Accuracy of the model is {accuracy_more * 100:.2f}%\")\n",
    "#print(test_df.iloc[:,-1].values)"
   ]
  },
  {
   "cell_type": "code",
   "execution_count": 113,
   "metadata": {},
   "outputs": [
    {
     "name": "stdout",
     "output_type": "stream",
     "text": [
      "Accuracy of the KNN classifier using the sklearn libraries is 100.00%\n",
      "Accuracy of the model without using sklearn library is 100.00%\n"
     ]
    }
   ],
   "source": [
    "#Creating the model using sklearn\n",
    "\n",
    "#Importing necessary libraries from sklearn\n",
    "from sklearn.neighbors import KNeighborsClassifier\n",
    "from sklearn.metrics import accuracy_score\n",
    "\n",
    "#Training the classifier\n",
    "knn_Class = KNeighborsClassifier(n_neighbors=K)\n",
    "#Fitting the model\n",
    "knn_Class.fit(training_features, training_labels)\n",
    "\n",
    "#Predicting the classes for test labels.\n",
    "sk_predicted_Labels = knn_Class.predict(testing_features)\n",
    "\n",
    "#Accuracy of the model.\n",
    "sk_Accuracy = accuracy_score(testing_df.iloc[:, -1].values, sk_predicted_Labels)\n",
    "\n",
    "#Printing the accuracy\n",
    "print(f\"Accuracy of the KNN classifier using the sklearn libraries is {sk_Accuracy * 100:.2f}%\")\n",
    "#Accuracy of the manual model.\n",
    "print(f\"Accuracy of the model without using sklearn library is {accuracy_more * 100:.2f}%\")"
   ]
  }
 ],
 "metadata": {
  "kernelspec": {
   "display_name": "base",
   "language": "python",
   "name": "python3"
  },
  "language_info": {
   "codemirror_mode": {
    "name": "ipython",
    "version": 3
   },
   "file_extension": ".py",
   "mimetype": "text/x-python",
   "name": "python",
   "nbconvert_exporter": "python",
   "pygments_lexer": "ipython3",
   "version": "3.12.4"
  }
 },
 "nbformat": 4,
 "nbformat_minor": 2
}
