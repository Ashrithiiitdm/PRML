{
 "cells": [
  {
   "cell_type": "raw",
   "metadata": {
    "vscode": {
     "languageId": "raw"
    }
   },
   "source": [
    "1. Given tabular data is collected at a small ice cream store. To determine if there is a correlation between temperature and the number of customers, \n",
    "calculate the Pearson correlation coefficient, without using any built-in functions or libraries.\n",
    "Compare your results with calculation using the inbuilt function. "
   ]
  },
  {
   "cell_type": "code",
   "execution_count": 22,
   "metadata": {},
   "outputs": [],
   "source": [
    "import math\n",
    "\n",
    "#Function for means\n",
    "def mean_data(d):\n",
    "    x_mean = 0\n",
    "    y_mean = 0\n",
    "    for key in d.keys():\n",
    "        x_mean += key\n",
    "    \n",
    "    x_mean /= len(d)\n",
    "\n",
    "    for val in d.values():\n",
    "        y_mean += val\n",
    "    \n",
    "    y_mean /= len(d)\n",
    "\n",
    "    return x_mean, y_mean\n",
    "\n",
    "#Function for calculating Pearson coefficient\n",
    "def pearson_coefficient_fun(n,d,  x, y):\n",
    "    #X = d.keys()\n",
    "    #Y = d.values()\n",
    "    \n",
    "\n",
    "    # Calculate sums\n",
    "    sum_x = 0\n",
    "    sum_y = 0\n",
    "    for key in d.keys():\n",
    "        sum_x += key\n",
    "    for key in d.values():\n",
    "        sum_y += key\n",
    "    sum_x2, sum_y2 = 0, 0\n",
    "    sum_xy = 0\n",
    "\n",
    "    for xi in d.keys():\n",
    "        sum_x2 += xi**2\n",
    "    \n",
    "    for yi in d.values():\n",
    "        sum_y2 += yi**2\n",
    "    \n",
    "    \n",
    "    for xi, yi in zip(d.keys(), d.values()):\n",
    "        sum_xy += xi *yi\n",
    "\n",
    "    numerator = n * sum_xy - sum_x * sum_y\n",
    "    denominator = ((n * sum_x2 - sum_x ** 2) * (n * sum_y2 - sum_y ** 2)) ** 0.5\n",
    "\n",
    "    correlation_coefficient = numerator / denominator\n",
    "\n",
    "    return correlation_coefficient\n",
    "\n",
    "\n",
    "    "
   ]
  },
  {
   "cell_type": "code",
   "execution_count": 23,
   "metadata": {},
   "outputs": [
    {
     "name": "stdout",
     "output_type": "stream",
     "text": [
      "Pearson coefficient calculated without any inbuilt functions: 0.9186718493897069\n"
     ]
    }
   ],
   "source": [
    "#Here I am calculating Pearson co-efficient using math libraries and dictionaries without using any inbuilt function.\n",
    "\n",
    "#Dictionary to store the temperatures along with the no of customers\n",
    "d = {98 : 15, 87:12, 90:10, 85:10, 95:16, 75:7, 92:14, 80:9, 88:11, 93:13}\n",
    "\"\"\" print(\"Dictionary:\", d);\n",
    "print(d[93]) \"\"\"\n",
    "\n",
    "x_mean, y_mean = mean_data(d)\n",
    "n = len(d.items())\n",
    "p_coeff_calc = pearson_coefficient_fun(n, d, x_mean, y_mean)\n",
    "print(\"Pearson coefficient calculated without any inbuilt functions:\", p_coeff_calc)\n"
   ]
  },
  {
   "cell_type": "code",
   "execution_count": 24,
   "metadata": {},
   "outputs": [
    {
     "name": "stdout",
     "output_type": "stream",
     "text": [
      "Pearson coefficient using pre-built libraries: 0.9186718493897073\n",
      "Difference between calculated coefficient and inbuilt function: 3.3306690738754696e-16\n"
     ]
    }
   ],
   "source": [
    "#Here I am calculating Pearson co-efficient using inbuilt functions.\n",
    "import pandas as pd\n",
    "\n",
    "#First the dictionary is converted to Data Frame\n",
    "df = pd.DataFrame(list(d.items()), columns = ['x', 'y'])\n",
    "p_coeff_inbuilt = df['x'].corr(df['y'])\n",
    "print(\"Pearson coefficient using pre-built libraries:\", p_coeff_inbuilt)\n",
    "\n",
    "print(\"Difference between calculated coefficient and inbuilt function:\", p_coeff_inbuilt - p_coeff_calc)"
   ]
  }
 ],
 "metadata": {
  "kernelspec": {
   "display_name": "base",
   "language": "python",
   "name": "python3"
  },
  "language_info": {
   "codemirror_mode": {
    "name": "ipython",
    "version": 3
   },
   "file_extension": ".py",
   "mimetype": "text/x-python",
   "name": "python",
   "nbconvert_exporter": "python",
   "pygments_lexer": "ipython3",
   "version": "3.12.4"
  }
 },
 "nbformat": 4,
 "nbformat_minor": 2
}
