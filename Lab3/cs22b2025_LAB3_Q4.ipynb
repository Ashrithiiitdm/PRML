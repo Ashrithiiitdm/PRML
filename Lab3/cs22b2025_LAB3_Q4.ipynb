{
 "cells": [
  {
   "cell_type": "markdown",
   "metadata": {},
   "source": [
    "4.  Given (hq − ht)^T = (0.5 0.5 -0.5 -0.25 -0.25) and \n",
    " Find the quadratic form distance."
   ]
  },
  {
   "cell_type": "code",
   "execution_count": 7,
   "metadata": {},
   "outputs": [],
   "source": [
    "import numpy as np\n",
    "import math"
   ]
  },
  {
   "cell_type": "code",
   "execution_count": 10,
   "metadata": {},
   "outputs": [
    {
     "name": "stdout",
     "output_type": "stream",
     "text": [
      "The quadratic form distance is: 0.8081614937622307\n"
     ]
    }
   ],
   "source": [
    "#Given matrix x transpose =  (0.5 0.5 -0.5 -0.25 -0.25).\n",
    "xT = np.array([0.5, 0.5, -0.5, -0.25, -0.25])\n",
    "\n",
    "#Transpose of the array is actual (x - y) matrix.\n",
    "x = np.transpose(xT)\n",
    "\n",
    "#Define matrix A\n",
    "A = np.array([[1, 0.135, 0.195, 0.137, 0.157], [0.137, 1, 0.2, 0.309, 0.143], [0.195, 0.2, 1, 0.157, 0.122], [0.137, 0.309, 0.157, 1, 0.195], [0.157, 0.143, 0.122, 0.195, 1]])\n",
    "#print(A)\n",
    "\n",
    "#Computation for distance.\n",
    "dist = np.dot(xT, A)\n",
    "dist2 = math.sqrt(np.dot(dist, x))\n",
    "\n",
    "print(\"The quadratic form distance is:\", dist2)"
   ]
  }
 ],
 "metadata": {
  "kernelspec": {
   "display_name": "base",
   "language": "python",
   "name": "python3"
  },
  "language_info": {
   "codemirror_mode": {
    "name": "ipython",
    "version": 3
   },
   "file_extension": ".py",
   "mimetype": "text/x-python",
   "name": "python",
   "nbconvert_exporter": "python",
   "pygments_lexer": "ipython3",
   "version": "3.12.4"
  }
 },
 "nbformat": 4,
 "nbformat_minor": 2
}
